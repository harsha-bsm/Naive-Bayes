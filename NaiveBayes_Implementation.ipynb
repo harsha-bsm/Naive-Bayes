{
 "cells": [
  {
   "cell_type": "code",
   "execution_count": 1,
   "metadata": {},
   "outputs": [],
   "source": [
    "import numpy as np"
   ]
  },
  {
   "cell_type": "code",
   "execution_count": 2,
   "metadata": {},
   "outputs": [],
   "source": [
    "import pandas as pd\n",
    "import warnings\n",
    "warnings.filterwarnings(\"ignore\")\n",
    "import matplotlib.pyplot as plt"
   ]
  },
  {
   "cell_type": "code",
   "execution_count": 3,
   "metadata": {},
   "outputs": [],
   "source": [
    "res_data=pd.read_csv(\"resources.csv\")\n",
    "train_data=pd.read_csv(\"train_data.csv\")"
   ]
  },
  {
   "cell_type": "code",
   "execution_count": 4,
   "metadata": {},
   "outputs": [
    {
     "name": "stdout",
     "output_type": "stream",
     "text": [
      "Number of projects thar are approved for funding  92706 , ( 84.85830404217927 %)\n",
      "Number of projects thar are not approved for funding  16542 , ( 15.141695957820739 %)\n"
     ]
    },
    {
     "data": {
      "image/png": "[encoded data removed]",
      "text/plain": [
       "<Figure size 432x432 with 1 Axes>"
      ]
     },
     "metadata": {},
     "output_type": "display_data"
    }
   ],
   "source": [
    "y_value_counts = train_data['project_is_approved'].value_counts()\n",
    "print(\"Number of projects thar are approved for funding \", y_value_counts[1], \", (\", (y_value_counts[1]/(y_value_counts[1]+y_value_counts[0]))*100,\"%)\")\n",
    "print(\"Number of projects thar are not approved for funding \", y_value_counts[0], \", (\", (y_value_counts[0]/(y_value_counts[1]+y_value_counts[0]))*100,\"%)\")\n",
    "\n",
    "fig, ax = plt.subplots(figsize=(6, 6), subplot_kw=dict(aspect=\"equal\"))\n",
    "recipe = [\"Accepted\", \"Not Accepted\"]\n",
    "\n",
    "data = [y_value_counts[1], y_value_counts[0]]\n",
    "\n",
    "wedges, texts = ax.pie(data, wedgeprops=dict(width=0.5), startangle=-40)\n",
    "\n",
    "bbox_props = dict(boxstyle=\"square,pad=0.3\", fc=\"w\", ec=\"k\", lw=0.72)\n",
    "kw = dict(xycoords='data', textcoords='data', arrowprops=dict(arrowstyle=\"-\"),\n",
    "          bbox=bbox_props, zorder=0, va=\"center\")\n",
    "\n",
    "for i, p in enumerate(wedges):\n",
    "    ang = (p.theta2 - p.theta1)/2. + p.theta1\n",
    "    y = np.sin(np.deg2rad(ang))\n",
    "    x = np.cos(np.deg2rad(ang))\n",
    "    horizontalalignment = {-1: \"right\", 1: \"left\"}[int(np.sign(x))]\n",
    "    connectionstyle = \"angle,angleA=0,angleB={}\".format(ang)\n",
    "    kw[\"arrowprops\"].update({\"connectionstyle\": connectionstyle})\n",
    "    ax.annotate(recipe[i], xy=(x, y), xytext=(1.35*np.sign(x), 1.4*y),\n",
    "                 horizontalalignment=horizontalalignment, **kw)\n",
    "    \n",
    "    ax.set_title(\"Nmber of projects that are Accepted and not accepted\")\n",
    "\n",
    "plt.show()\n"
   ]
  },
  {
   "cell_type": "markdown",
   "metadata": {},
   "source": [
    "### The above pie chart shows that there are more projects that are accepted than rejected.The data is not a balanced data"
   ]
  },
  {
   "cell_type": "code",
   "execution_count": 5,
   "metadata": {},
   "outputs": [],
   "source": [
    "# Pandas dataframe groupby count, mean: https://stackoverflow.com/a/19385591/4084039\n",
    "\n",
    "temp = pd.DataFrame(train_data.groupby(\"school_state\")[\"project_is_approved\"].apply(np.mean)).reset_index()\n",
    "# if you have data which contain only 0 and 1, then the mean = percentage (think about it)\n",
    "temp.columns = ['state_code', 'num_proposals']\n",
    "\n",
    "\n",
    "\n"
   ]
  },
  {
   "cell_type": "code",
   "execution_count": null,
   "metadata": {},
   "outputs": [],
   "source": []
  },
  {
   "cell_type": "code",
   "execution_count": 6,
   "metadata": {},
   "outputs": [
    {
     "name": "stdout",
     "output_type": "stream",
     "text": [
      "States with lowest % approvals\n",
      "   state_code  num_proposals\n",
      "46         VT       0.800000\n",
      "7          DC       0.802326\n",
      "43         TX       0.813142\n",
      "26         MT       0.816327\n",
      "18         LA       0.831245\n",
      "==================================================\n",
      "States with highest % approvals\n",
      "   state_code  num_proposals\n",
      "30         NH       0.873563\n",
      "35         OH       0.875152\n",
      "47         WA       0.876178\n",
      "28         ND       0.888112\n",
      "8          DE       0.897959\n"
     ]
    }
   ],
   "source": [
    "# https://www.csi.cuny.edu/sites/default/files/pdf/administration/ops/2letterstabbrev.pdf\n",
    "temp.sort_values(by=['num_proposals'], inplace=True)\n",
    "print(\"States with lowest % approvals\")\n",
    "print(temp.head(5))\n",
    "print('='*50)\n",
    "print(\"States with highest % approvals\")\n",
    "print(temp.tail(5))"
   ]
  },
  {
   "cell_type": "code",
   "execution_count": 7,
   "metadata": {},
   "outputs": [],
   "source": [
    "#stacked bar plots matplotlib: https://matplotlib.org/gallery/lines_bars_and_markers/bar_stacked.html\n",
    "def stack_plot(data, xtick, col2='project_is_approved', col3='total'):\n",
    "    ind = np.arange(data.shape[0])\n",
    "    \n",
    "    plt.figure(figsize=(20,5))\n",
    "    p1 = plt.bar(ind, data[col3].values)\n",
    "    p2 = plt.bar(ind, data[col2].values)\n",
    "\n",
    "    plt.ylabel('Projects')\n",
    "    plt.title('Number of projects aproved vs rejected')\n",
    "    plt.xticks(ind, list(data[xtick].values))\n",
    "    plt.legend((p1[0], p2[0]), ('total', 'accepted'))\n",
    "    plt.show()\n"
   ]
  },
  {
   "cell_type": "code",
   "execution_count": 8,
   "metadata": {},
   "outputs": [],
   "source": [
    "def univariate_barplots(data, col1, col2='project_is_approved', top=False):\n",
    "    # Count number of zeros in dataframe python: https://stackoverflow.com/a/51540521/4084039\n",
    "    \n",
    "    temp = pd.DataFrame(train_data.groupby(col1)[col2].agg(lambda x: x.eq(1).sum())).reset_index()\n",
    "   # print(temp)\n",
    "\n",
    "    # Pandas dataframe grouby count: https://stackoverflow.com/a/19385591/4084039\n",
    "    temp['total'] = pd.DataFrame(train_data.groupby(col1)[col2].agg({'total':'count'})).reset_index()['total']\n",
    "    temp['Avg'] = pd.DataFrame(train_data.groupby(col1)[col2].agg({'Avg':'mean'})).reset_index()['Avg']\n",
    "    #print (temp)\n",
    "    temp.sort_values(by=['total'],inplace=True, ascending=False)\n",
    "    \n",
    "    if top:\n",
    "        temp = temp[0:top]\n",
    "    \n",
    "    stack_plot(temp, xtick=col1, col2=col2, col3='total')\n",
    "    print(temp.head(5))\n",
    "    print(\"=\"*50)\n",
    "    print(temp.tail(5))"
   ]
  },
  {
   "cell_type": "code",
   "execution_count": 9,
   "metadata": {},
   "outputs": [
    {
     "data": {
      "image/png": "[encoded data removed]",
      "text/plain": [
       "<Figure size 1440x360 with 1 Axes>"
      ]
     },
     "metadata": {},
     "output_type": "display_data"
    },
    {
     "name": "stdout",
     "output_type": "stream",
     "text": [
      "   school_state  project_is_approved  total       Avg\n",
      "4            CA                13205  15388  0.858136\n",
      "43           TX                 6014   7396  0.813142\n",
      "34           NY                 6291   7318  0.859661\n",
      "9            FL                 5144   6185  0.831690\n",
      "27           NC                 4353   5091  0.855038\n",
      "==================================================\n",
      "   school_state  project_is_approved  total       Avg\n",
      "39           RI                  243    285  0.852632\n",
      "26           MT                  200    245  0.816327\n",
      "28           ND                  127    143  0.888112\n",
      "50           WY                   82     98  0.836735\n",
      "46           VT                   64     80  0.800000\n"
     ]
    }
   ],
   "source": [
    "univariate_barplots(train_data, 'school_state', 'project_is_approved', False)"
   ]
  },
  {
   "cell_type": "markdown",
   "metadata": {},
   "source": [
    "### The above graph depicts that for each state no: of projects approved is far greater than no : of projects rejected.\n",
    "### More is the no : of projects belongig to a state,more is the no : of projects approved and more is the projects rejected"
   ]
  },
  {
   "cell_type": "code",
   "execution_count": 10,
   "metadata": {},
   "outputs": [
    {
     "data": {
      "image/png": "[encoded data removed]",
      "text/plain": [
       "<Figure size 1440x360 with 1 Axes>"
      ]
     },
     "metadata": {},
     "output_type": "display_data"
    },
    {
     "name": "stdout",
     "output_type": "stream",
     "text": [
      "  teacher_prefix  project_is_approved  total       Avg\n",
      "2           Mrs.                48997  57269  0.855559\n",
      "3            Ms.                32860  38955  0.843537\n",
      "1            Mr.                 8960  10648  0.841473\n",
      "4        Teacher                 1877   2360  0.795339\n",
      "0            Dr.                    9     13  0.692308\n",
      "==================================================\n",
      "  teacher_prefix  project_is_approved  total       Avg\n",
      "2           Mrs.                48997  57269  0.855559\n",
      "3            Ms.                32860  38955  0.843537\n",
      "1            Mr.                 8960  10648  0.841473\n",
      "4        Teacher                 1877   2360  0.795339\n",
      "0            Dr.                    9     13  0.692308\n"
     ]
    }
   ],
   "source": [
    "univariate_barplots(train_data, 'teacher_prefix', 'project_is_approved' , top=False)"
   ]
  },
  {
   "cell_type": "markdown",
   "metadata": {},
   "source": [
    "### No: of projects belonging to prefix Mrs is higher  and Dr. is lower in terms of both number of projects approved and rejected\n",
    "### More is the no : of projects belongig by a certain teacher_prefix,more is the no : of projects approved and more is the projects rejected"
   ]
  },
  {
   "cell_type": "code",
   "execution_count": 11,
   "metadata": {},
   "outputs": [
    {
     "data": {
      "image/png": "[encoded data removed]",
      "text/plain": [
       "<Figure size 1440x360 with 1 Axes>"
      ]
     },
     "metadata": {},
     "output_type": "display_data"
    },
    {
     "name": "stdout",
     "output_type": "stream",
     "text": [
      "  project_grade_category  project_is_approved  total       Avg\n",
      "3          Grades PreK-2                37536  44225  0.848751\n",
      "0             Grades 3-5                31729  37137  0.854377\n",
      "1             Grades 6-8                14258  16923  0.842522\n",
      "2            Grades 9-12                 9183  10963  0.837636\n",
      "==================================================\n",
      "  project_grade_category  project_is_approved  total       Avg\n",
      "3          Grades PreK-2                37536  44225  0.848751\n",
      "0             Grades 3-5                31729  37137  0.854377\n",
      "1             Grades 6-8                14258  16923  0.842522\n",
      "2            Grades 9-12                 9183  10963  0.837636\n"
     ]
    }
   ],
   "source": [
    "univariate_barplots(train_data, 'project_grade_category', 'project_is_approved', top=False)"
   ]
  },
  {
   "cell_type": "markdown",
   "metadata": {},
   "source": [
    "### No: of projects belonging to project_grade_category  of PreK-2 is higher  and Grades 9-12 is lower in terms of both number of projects approved and rejected\n",
    "### More is the no : of projects belonging to a particular grade,more is the no : of projects approved and more is the projects rejected"
   ]
  },
  {
   "cell_type": "code",
   "execution_count": null,
   "metadata": {},
   "outputs": [],
   "source": []
  },
  {
   "cell_type": "code",
   "execution_count": 12,
   "metadata": {},
   "outputs": [],
   "source": [
    "categories=list(train_data['project_subject_categories'].values)\n",
    "# remove special characters from list of strings python: https://stackoverflow.com/a/47301924/4084039\n",
    "\n",
    "# https://www.geeksforgeeks.org/removing-stop-words-nltk-python/\n",
    "# https://stackoverflow.com/questions/23669024/how-to-strip-a-specific-word-from-a-string\n",
    "# https://stackoverflow.com/questions/8270092/remove-all-whitespace-in-a-string-in-python\n",
    "cat_list = []\n",
    "for i in categories:\n",
    "    temp = \"\"\n",
    "    for j in i.split(','):\n",
    "        if 'The' in j.split(): \n",
    "            j=j.replace('The','')\n",
    "        j = j.replace(' ','')\n",
    "        \n",
    "        temp+=j.strip()+\" \"\n",
    "        temp = temp.replace('&','')\n",
    "        \n",
    "        #temp = temp.replace(' ','_')\n",
    "        temp.rstrip()\n",
    "        temp.rstrip()\n",
    "    cat_list.append(temp.replace('_',''))"
   ]
  },
  {
   "cell_type": "code",
   "execution_count": 13,
   "metadata": {},
   "outputs": [
    {
     "data": {
      "text/plain": [
       "{'AppliedLearning ',\n",
       " 'AppliedLearning HealthSports ',\n",
       " 'AppliedLearning HistoryCivics ',\n",
       " 'AppliedLearning LiteracyLanguage ',\n",
       " 'AppliedLearning MathScience ',\n",
       " 'AppliedLearning MusicArts ',\n",
       " 'AppliedLearning SpecialNeeds ',\n",
       " 'AppliedLearning Warmth CareHunger ',\n",
       " 'HealthSports ',\n",
       " 'HealthSports AppliedLearning ',\n",
       " 'HealthSports HistoryCivics ',\n",
       " 'HealthSports LiteracyLanguage ',\n",
       " 'HealthSports MathScience ',\n",
       " 'HealthSports MusicArts ',\n",
       " 'HealthSports SpecialNeeds ',\n",
       " 'HealthSports Warmth CareHunger ',\n",
       " 'HistoryCivics ',\n",
       " 'HistoryCivics AppliedLearning ',\n",
       " 'HistoryCivics HealthSports ',\n",
       " 'HistoryCivics LiteracyLanguage ',\n",
       " 'HistoryCivics MathScience ',\n",
       " 'HistoryCivics MusicArts ',\n",
       " 'HistoryCivics SpecialNeeds ',\n",
       " 'HistoryCivics Warmth CareHunger ',\n",
       " 'LiteracyLanguage ',\n",
       " 'LiteracyLanguage AppliedLearning ',\n",
       " 'LiteracyLanguage HealthSports ',\n",
       " 'LiteracyLanguage HistoryCivics ',\n",
       " 'LiteracyLanguage MathScience ',\n",
       " 'LiteracyLanguage MusicArts ',\n",
       " 'LiteracyLanguage SpecialNeeds ',\n",
       " 'LiteracyLanguage Warmth CareHunger ',\n",
       " 'MathScience ',\n",
       " 'MathScience AppliedLearning ',\n",
       " 'MathScience HealthSports ',\n",
       " 'MathScience HistoryCivics ',\n",
       " 'MathScience LiteracyLanguage ',\n",
       " 'MathScience MusicArts ',\n",
       " 'MathScience SpecialNeeds ',\n",
       " 'MathScience Warmth CareHunger ',\n",
       " 'MusicArts ',\n",
       " 'MusicArts AppliedLearning ',\n",
       " 'MusicArts HealthSports ',\n",
       " 'MusicArts HistoryCivics ',\n",
       " 'MusicArts SpecialNeeds ',\n",
       " 'MusicArts Warmth CareHunger ',\n",
       " 'SpecialNeeds ',\n",
       " 'SpecialNeeds HealthSports ',\n",
       " 'SpecialNeeds MusicArts ',\n",
       " 'SpecialNeeds Warmth CareHunger ',\n",
       " 'Warmth CareHunger '}"
      ]
     },
     "execution_count": 13,
     "metadata": {},
     "output_type": "execute_result"
    }
   ],
   "source": [
    "set(cat_list)"
   ]
  },
  {
   "cell_type": "code",
   "execution_count": null,
   "metadata": {},
   "outputs": [],
   "source": []
  },
  {
   "cell_type": "code",
   "execution_count": 14,
   "metadata": {},
   "outputs": [],
   "source": [
    "train_data['clean_categories'] = cat_list\n",
    "#train_data.drop(['project_subject_categories'], axis=1, inplace=True)\n"
   ]
  },
  {
   "cell_type": "code",
   "execution_count": null,
   "metadata": {},
   "outputs": [],
   "source": []
  },
  {
   "cell_type": "code",
   "execution_count": 15,
   "metadata": {},
   "outputs": [
    {
     "data": {
      "image/png": "[encoded data removed]",
      "text/plain": [
       "<Figure size 1440x360 with 1 Axes>"
      ]
     },
     "metadata": {},
     "output_type": "display_data"
    },
    {
     "name": "stdout",
     "output_type": "stream",
     "text": [
      "                 clean_categories  project_is_approved  total       Avg\n",
      "24              LiteracyLanguage                 20520  23655  0.867470\n",
      "32                   MathScience                 13991  17072  0.819529\n",
      "28  LiteracyLanguage MathScience                 12725  14636  0.869432\n",
      "8                   HealthSports                  8640  10177  0.848973\n",
      "40                     MusicArts                  4429   5180  0.855019\n",
      "==================================================\n",
      "                   clean_categories  project_is_approved  total       Avg\n",
      "19  HistoryCivics LiteracyLanguage                  1271   1421  0.894441\n",
      "14       HealthSports SpecialNeeds                  1215   1391  0.873472\n",
      "50               Warmth CareHunger                  1212   1309  0.925898\n",
      "33     MathScience AppliedLearning                  1019   1220  0.835246\n",
      "4      AppliedLearning MathScience                   855   1052  0.812738\n"
     ]
    }
   ],
   "source": [
    "univariate_barplots(train_data, 'clean_categories', 'project_is_approved', top=20)"
   ]
  },
  {
   "cell_type": "markdown",
   "metadata": {},
   "source": [
    "### The above graph shows subject_category wise no : of approved and rejected.More no : of projects areapproved for Literacy_languagecategory and least no : of projects are approved for AppliedLearning Math_Science.For each and every subject_category,numberof projects approved is far greater than no : of projects rejected  "
   ]
  },
  {
   "cell_type": "code",
   "execution_count": 16,
   "metadata": {},
   "outputs": [],
   "source": [
    "# count of all the words in corpus python: https://stackoverflow.com/a/22898595/4084039\n",
    "from collections import Counter\n",
    "my_counter = Counter()\n",
    "for word in train_data['clean_categories'].values:\n",
    "    my_counter.update(word.split())\n",
    "#print(my_counter)"
   ]
  },
  {
   "cell_type": "code",
   "execution_count": 17,
   "metadata": {},
   "outputs": [
    {
     "name": "stdout",
     "output_type": "stream",
     "text": [
      "{'LiteracyLanguage': 52239, 'HistoryCivics': 5914, 'HealthSports': 14223, 'MathScience': 41421, 'SpecialNeeds': 13642, 'AppliedLearning': 12135, 'MusicArts': 10293, 'Warmth': 1388, 'CareHunger': 1388}\n",
      "{'Warmth': 1388, 'CareHunger': 1388, 'HistoryCivics': 5914, 'MusicArts': 10293, 'AppliedLearning': 12135, 'SpecialNeeds': 13642, 'HealthSports': 14223, 'MathScience': 41421, 'LiteracyLanguage': 52239}\n"
     ]
    },
    {
     "data": {
      "image/png": "[encoded data removed]",
      "text/plain": [
       "<Figure size 1440x360 with 1 Axes>"
      ]
     },
     "metadata": {},
     "output_type": "display_data"
    }
   ],
   "source": [
    "cat_dict=dict(my_counter)\n",
    "print(cat_dict)\n",
    "sorted_cat_dict = dict(sorted(cat_dict.items(), key=lambda kv: kv[1]))\n",
    "print(sorted_cat_dict)\n",
    "\n",
    "\n",
    "ind = np.arange(len(sorted_cat_dict))\n",
    "plt.figure(figsize=(20,5))\n",
    "p1 = plt.bar(ind, list(sorted_cat_dict.values()))\n",
    "\n",
    "plt.ylabel('Projects')\n",
    "plt.title('% of projects aproved category wise')\n",
    "plt.xticks(ind, list(sorted_cat_dict.keys()))\n",
    "plt.show()"
   ]
  },
  {
   "cell_type": "markdown",
   "metadata": {},
   "source": [
    "### graph compares the no : of projects accepted category wise.It is observed that projects belonging to litecracy_language are acccepted more"
   ]
  },
  {
   "cell_type": "code",
   "execution_count": 18,
   "metadata": {},
   "outputs": [
    {
     "name": "stdout",
     "output_type": "stream",
     "text": [
      "Warmth                    :      1388\n",
      "CareHunger                :      1388\n",
      "HistoryCivics             :      5914\n",
      "MusicArts                 :     10293\n",
      "AppliedLearning           :     12135\n",
      "SpecialNeeds              :     13642\n",
      "HealthSports              :     14223\n",
      "MathScience               :     41421\n",
      "LiteracyLanguage          :     52239\n"
     ]
    }
   ],
   "source": [
    "for i,j in sorted_cat_dict.items():\n",
    "    print(\"{:25} :{:10}\".format(i,j))"
   ]
  },
  {
   "cell_type": "code",
   "execution_count": null,
   "metadata": {},
   "outputs": [],
   "source": [
    "\n"
   ]
  },
  {
   "cell_type": "code",
   "execution_count": 19,
   "metadata": {},
   "outputs": [],
   "source": [
    "categories=list(train_data['project_subject_subcategories'].values)\n",
    "# remove special characters from list of strings python: https://stackoverflow.com/a/47301924/4084039\n",
    "\n",
    "# https://www.geeksforgeeks.org/removing-stop-words-nltk-python/\n",
    "# https://stackoverflow.com/questions/23669024/how-to-strip-a-specific-word-from-a-string\n",
    "# https://stackoverflow.com/questions/8270092/remove-all-whitespace-in-a-string-in-python\n",
    "sub_cat_list = []\n",
    "for i in categories:\n",
    "    temp = \"\"\n",
    "    for j in i.split(','):\n",
    "        if 'The' in j.split(): \n",
    "            j=j.replace('The','')\n",
    "        if '&' in j.split(): \n",
    "            j=j.replace('&','')    \n",
    "       # j = j.replace(' ','')\n",
    "        j=j.replace('&',' ')\n",
    "        temp+=j.strip()+\" \"\n",
    "        temp = temp.replace('&',' ')\n",
    "        temp=temp.strip()\n",
    "    sub_cat_list.append(temp.strip())"
   ]
  },
  {
   "cell_type": "code",
   "execution_count": 20,
   "metadata": {},
   "outputs": [],
   "source": [
    "train_data['clean_subcategories'] = sub_cat_list\n",
    "#train_data.drop(['project_subject_subcategories'], axis=1, inplace=True)\n"
   ]
  },
  {
   "cell_type": "code",
   "execution_count": 21,
   "metadata": {},
   "outputs": [
    {
     "data": {
      "image/png": "[encoded data removed]",
      "text/plain": [
       "<Figure size 1440x360 with 1 Axes>"
      ]
     },
     "metadata": {},
     "output_type": "display_data"
    },
    {
     "name": "stdout",
     "output_type": "stream",
     "text": [
      "                clean_subcategories  project_is_approved  total       Avg\n",
      "317                        Literacy                 8371   9486  0.882458\n",
      "319             LiteracyMathematics                 7260   8325  0.872072\n",
      "331  Literature  WritingMathematics                 5140   5923  0.867803\n",
      "318     LiteracyLiterature  Writing                 4823   5571  0.865733\n",
      "342                     Mathematics                 4385   5379  0.815207\n",
      "==================================================\n",
      "                      clean_subcategories  project_is_approved  total  \\\n",
      "196         Environmental ScienceLiteracy                  389    444   \n",
      "127                                   ESL                  349    421   \n",
      "79                   College  Career Prep                  343    421   \n",
      "17    Applied SciencesLiterature  Writing                  361    420   \n",
      "3    Applied SciencesCollege  Career Prep                  330    405   \n",
      "\n",
      "          Avg  \n",
      "196  0.876126  \n",
      "127  0.828979  \n",
      "79   0.814727  \n",
      "17   0.859524  \n",
      "3    0.814815  \n"
     ]
    }
   ],
   "source": [
    "univariate_barplots(train_data, 'clean_subcategories', 'project_is_approved', top=50)"
   ]
  },
  {
   "cell_type": "markdown",
   "metadata": {},
   "source": [
    "### The above graph shows subject_category wise no : of approved and rejected.More no : of projects areapproved for Literacy subcategory and least no : of projects are approved for Appliedsciences College_CareerPrep .For each and every subject_category,numberof projects approved is far greater than no : of projects rejected  "
   ]
  },
  {
   "cell_type": "code",
   "execution_count": 22,
   "metadata": {},
   "outputs": [
    {
     "name": "stdout",
     "output_type": "stream",
     "text": [
      "Counter({'Writing': 13562, 'Needs': 13275, 'Literature': 13118, 'Applied': 10816, 'Literacy': 9802, 'Health': 9726, 'LiteracyMathematics': 8458, 'Arts': 8099, 'Wellness': 6600, 'WritingMathematics': 5923, 'LiteracyLiterature': 5586, 'Mathematics': 5379, 'Science': 4845, 'Special': 4593, 'Gym': 4432, 'Environmental': 4378, 'Sciences': 4284, 'Life': 4235, 'Early': 3814, 'SciencesMathematics': 3399, 'Career': 2568, 'LiteracySpecial': 2490, 'History': 2448, 'FitnessHealth': 2273, 'ESLLiteracy': 2234, 'Visual': 2219, 'Sports': 2186, 'College': 2035, 'Character': 2012, 'Education': 1669, 'Music': 1472, 'Hunger': 1388, 'ScienceMathematics': 1375, 'Development': 1345, 'WarmthCare': 1309, 'WritingSpecial': 1306, 'Fitness': 1272, 'Geography': 1263, 'WellnessSpecial': 1189, 'MathematicsSpecial': 1187, 'ScienceHealth': 1173, 'Team': 1067, 'SciencesEnvironmental': 984, 'Prep': 954, 'MusicPerforming': 948, 'Other': 831, 'WellnessNutrition': 797, 'Civics': 796, 'Foreign': 786, 'DevelopmentSpecial': 779, 'ScienceLiteracy': 762, 'ESLLiterature': 731, 'DevelopmentLiteracy': 717, 'SciencesVisual': 687, 'WritingVisual': 684, 'SciencesHealth': 618, 'Involvement': 601, 'GeographyLiterature': 596, 'FitnessTeam': 588, 'LiteracyVisual': 550, 'SciencesLiteracy': 549, 'Performing': 538, 'GeographyLiteracy': 533, 'MathematicsVisual': 489, 'ScienceLiterature': 471, 'WellnessLiteracy': 465, 'Languages': 454, 'SciencesSpecial': 426, 'ESL': 421, 'SciencesLiterature': 420, 'Financial': 416, 'SciencesCollege': 405, 'LiteracySocial': 392, 'WellnessTeam': 344, 'DevelopmentHealth': 343, 'Nutrition': 339, 'WritingSocial': 333, 'Social': 328, 'Community': 326, 'EducationLiteracy': 326, 'GeographySocial': 318, 'PrepLiterature': 317, 'PrepMathematics': 306, 'ScienceVisual': 306, 'NeedsVisual': 302, 'OtherSpecial': 299, 'WellnessLiterature': 291, 'ScienceSpecial': 289, 'DevelopmentMathematics': 288, 'ESLMathematics': 270, 'GovernmentHistory': 248, 'PrepLiteracy': 246, 'DevelopmentLiterature': 229, 'EducationSpecial': 226, 'WellnessMathematics': 224, 'LanguagesLiteracy': 223, 'ScienceHistory': 221, 'ESLSpecial': 195, 'LiteracyOther': 177, 'Service': 170, 'EducationLiterature': 169, 'GeographyVisual': 169, 'DevelopmentVisual': 169, 'WellnessOther': 168, 'FitnessSpecial': 167, 'SciencesEarly': 164, 'EducationEarly': 164, 'LiteracyParent': 157, 'ScienceSocial': 154, 'DevelopmentOther': 144, 'GovernmentLiteracy': 143, 'SciencesExtracurricular': 142, 'LiteracyMusic': 141, 'PrepVisual': 135, 'EducationHealth': 133, 'WritingOther': 133, 'Extracurricular': 133, 'SciencesOther': 128, 'PrepSpecial': 127, 'LiteracyPerforming': 126, 'Parent': 121, 'EducationCollege': 119, 'MusicSpecial': 119, 'GeographySpecial': 116, 'GeographyMathematics': 113, 'WritingPerforming': 113, 'EducationOther': 109, 'MathematicsOther': 102, 'EducationMathematics': 101, 'ScienceNutrition': 99, 'Government': 99, 'ArtsVisual': 97, 'SciencesHistory': 91, 'GovernmentLiterature': 91, 'MathematicsSocial': 89, 'EconomicsFinancial': 88, 'ExtracurricularVisual': 88, 'PrepOther': 86, 'LanguagesLiterature': 82, 'GovernmentSocial': 81, 'MathematicsParent': 79, 'EducationVisual': 76, 'SciencesESL': 75, 'ESLEarly': 74, 'SciencesMusic': 68, 'SciencesParent': 67, 'SciencesSocial': 66, 'PrepHealth': 64, 'MathematicsMusic': 62, 'WritingParent': 62, 'FitnessNutrition': 61, 'ESLHealth': 60, 'EducationCommunity': 59, 'DevelopmentEnvironmental': 57, 'OtherVisual': 56, 'ESLForeign': 56, 'ExtracurricularMathematics': 56, 'EducationExtracurricular': 55, 'SciencesCharacter': 53, 'ServiceEnvironmental': 48, 'WritingMusic': 48, 'PrepExtracurricular': 47, 'MusicVisual': 46, 'ExtracurricularLiteracy': 44, 'ESLVisual': 43, 'DevelopmentParent': 43, 'WellnessVisual': 42, 'NeedsTeam': 42, 'ESLEnvironmental': 41, 'WellnessMusic': 40, 'FitnessMathematics': 38, 'Economics': 38, 'DevelopmentGym': 38, 'LanguagesMathematics': 37, 'PrepParent': 37, 'EducationTeam': 36, 'ESLHistory': 34, 'PrepEnvironmental': 34, 'InvolvementVisual': 33, 'ServiceVisual': 33, 'SciencesPerforming': 31, 'EducationParent': 30, 'PrepCommunity': 30, 'ExtracurricularLiterature': 30, 'FitnessLiteracy': 30, 'PrepEarly': 29, 'InvolvementSpecial': 29, 'ExtracurricularOther': 29, 'ServiceLiterature': 29, 'MathematicsPerforming': 29, 'PrepSocial': 28, 'ExtracurricularMusic': 26, 'ServiceHealth': 25, 'GeographyMusic': 25, 'ScienceOther': 25, 'ExtracurricularTeam': 25, 'ScienceParent': 25, 'EconomicsHistory': 25, 'EducationEnvironmental': 25, 'GovernmentEconomics': 25, 'DevelopmentMusic': 24, 'PrepPerforming': 24, 'PrepHistory': 24, 'ServiceSpecial': 24, 'FitnessMusic': 23, 'EducationMusic': 23, 'NeedsWarmthCare': 23, 'EconomicsMathematics': 22, 'LiteracyLiteracy': 22, 'WellnessHistory': 21, 'EducationSocial': 21, 'ExtracurricularPerforming': 20, 'DevelopmentPerforming': 20, 'GovernmentSpecial': 20, 'LanguagesSpecial': 20, 'SciencePerforming': 20, 'ESLSocial': 20, 'EducationESL': 19, 'GeographyPerforming': 19, 'ArtsSpecial': 19, 'PrepForeign': 19, 'LanguagesHistory': 19, 'ServiceExtracurricular': 18, 'ExtracurricularSpecial': 18, 'GovernmentEnvironmental': 18, 'WellnessWarmthCare': 18, 'ServiceLiteracy': 18, 'ExtracurricularHealth': 18, 'GovernmentHealth': 17, 'FitnessLiterature': 17, 'SciencesCommunity': 17, 'ServiceMathematics': 17, 'ESLOther': 17, 'PrepFinancial': 16, 'WellnessPerforming': 16, 'ESLMusic': 15, 'GovernmentFinancial': 15, 'WellnessSocial': 15, 'ESLPerforming': 15, 'SciencesCivics': 14, 'ScienceMusic': 14, 'DevelopmentExtracurricular': 14, 'EconomicsSocial': 14, 'PrepMusic': 13, 'OtherParent': 13, 'ScienceExtracurricular': 13, 'FitnessVisual': 13, 'LiteracyTeam': 13, 'SciencesGym': 13, 'GovernmentVisual': 13, 'DevelopmentSocial': 13, 'LanguagesVisual': 13, 'LanguagesHealth': 12, 'EconomicsLiteracy': 12, 'SciencesTeam': 12, 'ESLParent': 12, 'GeographyOther': 12, 'LiteracyHistory': 12, 'ArtsSocial': 11, 'ArtsTeam': 11, 'PrepNutrition': 11, 'LanguagesMusic': 11, 'EducationPerforming': 11, 'ScienceTeam': 11, 'DevelopmentNutrition': 10, 'FitnessPerforming': 10, 'GovernmentMathematics': 10, 'WritingTeam': 10, 'PrepESL': 10, 'EducationHistory': 10, 'FitnessOther': 10, 'MathematicsNutrition': 10, 'GovernmentCommunity': 9, 'ServiceParent': 9, 'EducationForeign': 9, 'GovernmentCollege': 9, 'ServiceOther': 9, 'EconomicsVisual': 9, 'ServiceEarly': 9, 'MathematicsTeam': 8, 'ServiceSocial': 8, 'EducationWarmthCare': 8, 'ExtracurricularParent': 8, 'MusicTeam': 8, 'MusicSocial': 7, 'InvolvementSocial': 7, 'ScienceFinancial': 7, 'EducationGym': 7, 'LiteracyNutrition': 7, 'LanguagesSocial': 7, 'SciencesForeign': 6, 'ESLFinancial': 6, 'ScienceWarmthCare': 6, 'ScienceForeign': 6, 'SciencesFinancial': 6, 'EducationFinancial': 6, 'DevelopmentFinancial': 6, 'SportsVisual': 6, 'EconomicsEnvironmental': 6, 'ServiceHistory': 6, 'ExtracurricularGym': 6, 'GovernmentPerforming': 6, 'LanguagesOther': 6, 'MusicParent': 5, 'LiteracyWarmthCare': 5, 'ExtracurricularHistory': 5, 'PrepEconomics': 5, 'EducationCivics': 5, 'InvolvementPerforming': 5, 'SciencesNutrition': 5, 'MusicOther': 5, 'LiteracyHealth': 5, 'FitnessHistory': 4, 'DevelopmentTeam': 4, 'EconomicsSpecial': 4, 'OtherSocial': 4, 'ServiceEconomics': 4, 'WritingWarmthCare': 4, 'SciencesEconomics': 4, 'GovernmentESL': 4, 'OtherTeam': 4, 'LanguagesPerforming': 4, 'WellnessParent': 4, 'ServiceNutrition': 4, 'ScienceGym': 4, 'ServiceESL': 4, 'ExtracurricularNutrition': 4, 'OtherPerforming': 3, 'ExtracurricularSocial': 3, 'DevelopmentWarmthCare': 3, 'MathematicsWarmthCare': 3, 'DevelopmentForeign': 3, 'DevelopmentHistory': 3, 'ESLGym': 3, 'GeographyParent': 3, 'PrepGym': 3, 'ServicePerforming': 3, 'ESLExtracurricular': 3, 'GeographyTeam': 3, 'ESLNutrition': 3, 'GovernmentTeam': 2, 'ArtsWarmthCare': 2, 'GovernmentExtracurricular': 2, 'EducationEconomics': 2, 'EducationNutrition': 2, 'LanguagesGym': 2, 'PrepTeam': 2, 'SciencesWarmthCare': 2, 'EconomicsLiterature': 2, 'ExtracurricularForeign': 2, 'DevelopmentEconomics': 2, 'EconomicsHealth': 2, 'FitnessParent': 1, 'ServiceGym': 1, 'PrepWarmthCare': 1, 'EconomicsOther': 1, 'InvolvementWarmthCare': 1, 'ServiceMusic': 1, 'FitnessSocial': 1, 'InvolvementTeam': 1, 'GovernmentNutrition': 1, 'LiteracyForeign': 1, 'EconomicsNutrition': 1, 'EconomicsMusic': 1, 'OtherWarmthCare': 1, 'ServiceFinancial': 1, 'ExtracurricularFinancial': 1, 'FitnessWarmthCare': 1, 'WritingNutrition': 1, 'GeographyWarmthCare': 1, 'GovernmentParent': 1, 'ESLTeam': 1, 'ESLEconomics': 1, 'GovernmentForeign': 1, 'EconomicsForeign': 1})\n"
     ]
    }
   ],
   "source": [
    "# count of all the words in corpus python: https://stackoverflow.com/a/22898595/4084039\n",
    "from collections import Counter\n",
    "my_counter = Counter()\n",
    "for word in train_data['clean_subcategories'].values:\n",
    "    my_counter.update(word.split())\n",
    "    dict.update\n",
    "print(my_counter)"
   ]
  },
  {
   "cell_type": "code",
   "execution_count": 23,
   "metadata": {},
   "outputs": [
    {
     "data": {
      "image/png": "[encoded data removed]",
      "text/plain": [
       "<Figure size 1440x360 with 1 Axes>"
      ]
     },
     "metadata": {},
     "output_type": "display_data"
    }
   ],
   "source": [
    "# dict sort by value python: https://stackoverflow.com/a/613218/4084039\n",
    "sub_cat_dict = dict(my_counter)\n",
    "sorted_sub_cat_dict = dict(sorted(sub_cat_dict.items(), key=lambda kv: kv[1]))\n",
    "\n",
    "\n",
    "ind = np.arange(len(sorted_sub_cat_dict))\n",
    "plt.figure(figsize=(20,5))\n",
    "p1 = plt.bar(ind, list(sorted_sub_cat_dict.values()))\n",
    "\n",
    "plt.ylabel('Projects')\n",
    "plt.title('% of projects aproved sub category wise')\n",
    "plt.xticks(ind, list(sorted_sub_cat_dict.keys()))\n",
    "plt.show()"
   ]
  },
  {
   "cell_type": "markdown",
   "metadata": {},
   "source": [
    "### Shows no : of projects approved sub category wise .It is more for literacy."
   ]
  },
  {
   "cell_type": "code",
   "execution_count": null,
   "metadata": {},
   "outputs": [],
   "source": []
  },
  {
   "cell_type": "code",
   "execution_count": 24,
   "metadata": {},
   "outputs": [
    {
     "name": "stdout",
     "output_type": "stream",
     "text": [
      "{13: 1, 12: 11, 11: 30, 1: 31, 10: 3968, 9: 5383, 8: 7289, 2: 8733, 7: 10631, 6: 14824, 3: 18691, 5: 19677, 4: 19979}\n"
     ]
    },
    {
     "data": {
      "image/png": "[encoded data removed]",
      "text/plain": [
       "<Figure size 1440x360 with 1 Axes>"
      ]
     },
     "metadata": {},
     "output_type": "display_data"
    }
   ],
   "source": [
    "#How to calculate number of words in a string in DataFrame: https://stackoverflow.com/a/37483537/4084039\n",
    "word_count = train_data['project_title'].str.split().apply(len).value_counts()\n",
    "#print(word_count)\n",
    "word_dict = dict(word_count)\n",
    "#print(word_dict)\n",
    "word_dict = dict(sorted(word_dict.items(), key=lambda kv: kv[1]))\n",
    "print(word_dict)\n",
    "\n",
    "\n",
    "ind = np.arange(len(word_dict))\n",
    "plt.figure(figsize=(20,5))\n",
    "p1 = plt.bar(ind, list(word_dict.values()))\n",
    "\n",
    "plt.ylabel('Numeber of projects')\n",
    "plt.xlabel('Numeber words in project title')\n",
    "plt.title('Words for each title of the project')\n",
    "plt.xticks(ind, list(word_dict.keys()))\n",
    "plt.show()"
   ]
  },
  {
   "cell_type": "markdown",
   "metadata": {},
   "source": [
    "### Of all the projects approved,more of them has words in the project title as 3,4 and 5 "
   ]
  },
  {
   "cell_type": "code",
   "execution_count": 25,
   "metadata": {},
   "outputs": [],
   "source": [
    "approved_title_word_count = train_data[train_data['project_is_approved']==1]['project_title'].str.split().apply(len)\n",
    "\n",
    "approved_title_word_count = approved_title_word_count.values\n",
    "#print(approved_title_word_count)\n",
    "rejected_title_word_count = train_data[train_data['project_is_approved']==0]['project_title'].str.split().apply(len)\n",
    "rejected_title_word_count = rejected_title_word_count.values"
   ]
  },
  {
   "cell_type": "code",
   "execution_count": 26,
   "metadata": {},
   "outputs": [
    {
     "data": {
      "image/png": "[encoded data removed]",
      "text/plain": [
       "<Figure size 576x432 with 1 Axes>"
      ]
     },
     "metadata": {},
     "output_type": "display_data"
    }
   ],
   "source": [
    "# sample code taken from https://stackoverflow.com/questions/24337726/draw-box-plot-with-matplotlib\n",
    "\n",
    "import matplotlib.pyplot as plt\n",
    "\n",
    "x1 = approved_title_word_count\n",
    "x2 = rejected_title_word_count\n",
    "\n",
    "\n",
    "fig = plt.figure(figsize=(8,6))\n",
    "\n",
    "plt.boxplot([x for x in [x1, x2]], 0, 'rs', 1)\n",
    "plt.xticks([y+1 for y in range(len([x1, x2]))], ['projects_approved', 'projects_rejected'])\n",
    "plt.ylabel('number of words in pproject title')\n",
    "t = plt.title('projectsapprovedand rejected vs number of words in project title')\n",
    "plt.grid()\n",
    "plt.show()"
   ]
  },
  {
   "cell_type": "code",
   "execution_count": null,
   "metadata": {},
   "outputs": [],
   "source": []
  },
  {
   "cell_type": "markdown",
   "metadata": {},
   "source": [
    "###  number of words in project title <= 4 are rejected and no : of words in project tile >=7 are accepted"
   ]
  },
  {
   "cell_type": "code",
   "execution_count": 27,
   "metadata": {},
   "outputs": [],
   "source": [
    "import seaborn  as sns"
   ]
  },
  {
   "cell_type": "code",
   "execution_count": 28,
   "metadata": {},
   "outputs": [
    {
     "data": {
      "image/png": "[encoded data removed]",
      "text/plain": [
       "<Figure size 720x216 with 1 Axes>"
      ]
     },
     "metadata": {},
     "output_type": "display_data"
    }
   ],
   "source": [
    "plt.figure(figsize=(10,3))\n",
    "sns.kdeplot(approved_title_word_count,label=\"Approved Projects\", bw=0.6)\n",
    "sns.kdeplot(rejected_title_word_count,label=\"Not Approved Projects\", bw=0.6)\n",
    "plt.legend()\n",
    "plt.show()\n"
   ]
  },
  {
   "cell_type": "markdown",
   "metadata": {},
   "source": [
    "### No conclusions can be drawn from the graph"
   ]
  },
  {
   "cell_type": "markdown",
   "metadata": {},
   "source": [
    "### Univariate Analysis: Text features (Project Essay's)"
   ]
  },
  {
   "cell_type": "code",
   "execution_count": 29,
   "metadata": {},
   "outputs": [],
   "source": [
    "# merge two column text dataframe: \n",
    "train_data[\"essay\"] = train_data[\"project_essay_1\"].map(str) +\\\n",
    "                        train_data[\"project_essay_2\"].map(str) + \\\n",
    "                        train_data[\"project_essay_3\"].map(str) + \\\n",
    "                        train_data[\"project_essay_4\"].map(str)"
   ]
  },
  {
   "cell_type": "code",
   "execution_count": 30,
   "metadata": {},
   "outputs": [
    {
     "name": "stdout",
     "output_type": "stream",
     "text": [
      "[221 213 234 ... 181 254 263]\n"
     ]
    }
   ],
   "source": [
    "approved_word_count = train_data[train_data['project_is_approved']==1]['essay'].str.split().apply(len)\n",
    "approved_word_count = approved_word_count.values\n",
    "print(approved_word_count)\n",
    "\n",
    "rejected_word_count = train_data[train_data['project_is_approved']==0]['essay'].str.split().apply(len)\n",
    "rejected_word_count = rejected_word_count.values"
   ]
  },
  {
   "cell_type": "code",
   "execution_count": 31,
   "metadata": {},
   "outputs": [
    {
     "data": {
      "image/png": "[encoded data removed]",
      "text/plain": [
       "<Figure size 576x432 with 1 Axes>"
      ]
     },
     "metadata": {},
     "output_type": "display_data"
    }
   ],
   "source": [
    "# sample code taken from https://stackoverflow.com/questions/24337726/draw-box-plot-with-matplotlib\n",
    "\n",
    "import matplotlib.pyplot as plt\n",
    "\n",
    "x1 = approved_word_count\n",
    "x2 = rejected_word_count\n",
    "\n",
    "\n",
    "fig = plt.figure(figsize=(8,6))\n",
    "\n",
    "plt.boxplot([x for x in [x1, x2]], 0, 'rs', 1)\n",
    "plt.xticks([y+1 for y in range(len([x1, x2]))], ['projects_approved', 'projects_rejected'])\n",
    "plt.ylabel('number of words in essay')\n",
    "t = plt.title('projectsapproved and rejected vs number of words in project esaay')\n",
    "plt.grid()\n",
    "plt.show()"
   ]
  },
  {
   "cell_type": "markdown",
   "metadata": {},
   "source": [
    "### No : of words in project esaay > 380 and <140  are approved \n"
   ]
  },
  {
   "cell_type": "code",
   "execution_count": 32,
   "metadata": {},
   "outputs": [
    {
     "data": {
      "image/png": "[encoded data removed]",
      "text/plain": [
       "<Figure size 720x216 with 1 Axes>"
      ]
     },
     "metadata": {},
     "output_type": "display_data"
    }
   ],
   "source": [
    "plt.figure(figsize=(10,3))\n",
    "sns.distplot(approved_word_count, hist=False, label=\"Approved Projects\")\n",
    "sns.distplot(rejected_word_count, hist=False, label=\"Not Approved Projects\")\n",
    "plt.title('Words for each essay of the project')\n",
    "plt.xlabel('Number of words in each eassay')\n",
    "plt.legend()\n",
    "plt.show()"
   ]
  },
  {
   "cell_type": "markdown",
   "metadata": {},
   "source": [
    "##### Cannot be concluded from the graph"
   ]
  },
  {
   "cell_type": "markdown",
   "metadata": {},
   "source": [
    "### Univariate Analysis: Cost per project"
   ]
  },
  {
   "cell_type": "code",
   "execution_count": 33,
   "metadata": {},
   "outputs": [
    {
     "data": {
      "text/html": [
       "<div>\n",
       "<style scoped>\n",
       "    .dataframe tbody tr th:only-of-type {\n",
       "        vertical-align: middle;\n",
       "    }\n",
       "\n",
       "    .dataframe tbody tr th {\n",
       "        vertical-align: top;\n",
       "    }\n",
       "\n",
       "    .dataframe thead th {\n",
       "        text-align: right;\n",
       "    }\n",
       "</style>\n",
       "<table border=\"1\" class=\"dataframe\">\n",
       "  <thead>\n",
       "    <tr style=\"text-align: right;\">\n",
       "      <th></th>\n",
       "      <th>id</th>\n",
       "      <th>description</th>\n",
       "      <th>quantity</th>\n",
       "      <th>price</th>\n",
       "    </tr>\n",
       "  </thead>\n",
       "  <tbody>\n",
       "    <tr>\n",
       "      <th>0</th>\n",
       "      <td>p233245</td>\n",
       "      <td>LC652 - Lakeshore Double-Space Mobile Drying Rack</td>\n",
       "      <td>1</td>\n",
       "      <td>149.00</td>\n",
       "    </tr>\n",
       "    <tr>\n",
       "      <th>1</th>\n",
       "      <td>p069063</td>\n",
       "      <td>Bouncy Bands for Desks (Blue support pipes)</td>\n",
       "      <td>3</td>\n",
       "      <td>14.95</td>\n",
       "    </tr>\n",
       "    <tr>\n",
       "      <th>2</th>\n",
       "      <td>p069063</td>\n",
       "      <td>Cory Stories: A Kid's Book About Living With Adhd</td>\n",
       "      <td>1</td>\n",
       "      <td>8.45</td>\n",
       "    </tr>\n",
       "  </tbody>\n",
       "</table>\n",
       "</div>"
      ],
      "text/plain": [
       "        id                                        description  quantity  \\\n",
       "0  p233245  LC652 - Lakeshore Double-Space Mobile Drying Rack         1   \n",
       "1  p069063        Bouncy Bands for Desks (Blue support pipes)         3   \n",
       "2  p069063  Cory Stories: A Kid's Book About Living With Adhd         1   \n",
       "\n",
       "    price  \n",
       "0  149.00  \n",
       "1   14.95  \n",
       "2    8.45  "
      ]
     },
     "execution_count": 33,
     "metadata": {},
     "output_type": "execute_result"
    }
   ],
   "source": [
    "res_data.head(3)"
   ]
  },
  {
   "cell_type": "code",
   "execution_count": 34,
   "metadata": {},
   "outputs": [
    {
     "data": {
      "text/html": [
       "<div>\n",
       "<style scoped>\n",
       "    .dataframe tbody tr th:only-of-type {\n",
       "        vertical-align: middle;\n",
       "    }\n",
       "\n",
       "    .dataframe tbody tr th {\n",
       "        vertical-align: top;\n",
       "    }\n",
       "\n",
       "    .dataframe thead th {\n",
       "        text-align: right;\n",
       "    }\n",
       "</style>\n",
       "<table border=\"1\" class=\"dataframe\">\n",
       "  <thead>\n",
       "    <tr style=\"text-align: right;\">\n",
       "      <th></th>\n",
       "      <th>id</th>\n",
       "      <th>quantity</th>\n",
       "      <th>price</th>\n",
       "    </tr>\n",
       "  </thead>\n",
       "  <tbody>\n",
       "    <tr>\n",
       "      <th>0</th>\n",
       "      <td>p000001</td>\n",
       "      <td>7</td>\n",
       "      <td>459.56</td>\n",
       "    </tr>\n",
       "    <tr>\n",
       "      <th>1</th>\n",
       "      <td>p000002</td>\n",
       "      <td>21</td>\n",
       "      <td>515.89</td>\n",
       "    </tr>\n",
       "    <tr>\n",
       "      <th>2</th>\n",
       "      <td>p000003</td>\n",
       "      <td>4</td>\n",
       "      <td>298.97</td>\n",
       "    </tr>\n",
       "  </tbody>\n",
       "</table>\n",
       "</div>"
      ],
      "text/plain": [
       "        id  quantity   price\n",
       "0  p000001         7  459.56\n",
       "1  p000002        21  515.89\n",
       "2  p000003         4  298.97"
      ]
     },
     "execution_count": 34,
     "metadata": {},
     "output_type": "execute_result"
    }
   ],
   "source": [
    "# https://stackoverflow.com/questions/39441484/pandas-groupby-and-aggregate-without-losing-the-column-which-was-grouped\n",
    "price_data=res_data.groupby('id').agg(lambda x: sum(x)).reset_index()\n",
    "price_data.head(3)"
   ]
  },
  {
   "cell_type": "code",
   "execution_count": 35,
   "metadata": {},
   "outputs": [],
   "source": [
    "# join two dataframes in python: \n",
    "train_data = pd.merge(train_data, price_data, on='id', how='left')"
   ]
  },
  {
   "cell_type": "code",
   "execution_count": 36,
   "metadata": {},
   "outputs": [],
   "source": [
    "train_data=train_data.sample(frac=0.8,random_state=25)"
   ]
  },
  {
   "cell_type": "code",
   "execution_count": 37,
   "metadata": {},
   "outputs": [
    {
     "data": {
      "text/plain": [
       "(87398, 22)"
      ]
     },
     "execution_count": 37,
     "metadata": {},
     "output_type": "execute_result"
    }
   ],
   "source": [
    "train_data.shape"
   ]
  },
  {
   "cell_type": "code",
   "execution_count": 38,
   "metadata": {},
   "outputs": [],
   "source": [
    "approved_price = train_data[train_data['project_is_approved']==1]['price'].values\n",
    "\n",
    "rejected_price = train_data[train_data['project_is_approved']==0]['price'].values"
   ]
  },
  {
   "cell_type": "code",
   "execution_count": 39,
   "metadata": {},
   "outputs": [
    {
     "data": {
      "image/png": "[encoded data removed]",
      "text/plain": [
       "<Figure size 576x432 with 1 Axes>"
      ]
     },
     "metadata": {},
     "output_type": "display_data"
    }
   ],
   "source": [
    "# sample code taken from https://stackoverflow.com/questions/24337726/draw-box-plot-with-matplotlib\n",
    "\n",
    "import matplotlib.pyplot as plt\n",
    "\n",
    "x1 = approved_price\n",
    "x2 = rejected_price\n",
    "\n",
    "\n",
    "fig = plt.figure(figsize=(8,6))\n",
    "\n",
    "plt.boxplot([x for x in [x1, x2]], 0,'rs', 1)\n",
    "plt.xticks([y+1 for y in range(len([x1, x2]))], ['projects_approved', 'projects_rejected'])\n",
    "plt.ylabel('Price')\n",
    "t = plt.title('Box Plots of Cost per approved and not approved Projects')\n",
    "plt.grid()\n",
    "plt.show()"
   ]
  },
  {
   "cell_type": "markdown",
   "metadata": {},
   "source": [
    "#### Nothing canbe concluded from the graph"
   ]
  },
  {
   "cell_type": "code",
   "execution_count": 40,
   "metadata": {},
   "outputs": [
    {
     "data": {
      "image/png": "[encoded data removed]",
      "text/plain": [
       "<Figure size 720x216 with 1 Axes>"
      ]
     },
     "metadata": {},
     "output_type": "display_data"
    }
   ],
   "source": [
    "plt.figure(figsize=(10,3))\n",
    "sns.distplot(approved_price, hist=False, label=\"Approved Projects\")\n",
    "sns.distplot(rejected_price, hist=False, label=\"Not Approved Projects\")\n",
    "plt.title('Cost per approved and not approved Projects')\n",
    "plt.xlabel('Cost of a project')\n",
    "plt.legend()\n",
    "plt.show()"
   ]
  },
  {
   "cell_type": "markdown",
   "metadata": {},
   "source": [
    "### Drawing a conclusion is quiet difficult"
   ]
  },
  {
   "cell_type": "code",
   "execution_count": 41,
   "metadata": {},
   "outputs": [
    {
     "name": "stdout",
     "output_type": "stream",
     "text": [
      "Requirement already satisfied: prettytable in ./.local/lib/python3.6/site-packages (0.7.2)\n",
      "\u001b[33mWARNING: You are using pip version 19.1.1, however version 19.2.1 is available.\n",
      "You should consider upgrading via the 'pip install --upgrade pip' command.\u001b[0m\n"
     ]
    }
   ],
   "source": [
    "!pip3 install --user prettytable"
   ]
  },
  {
   "cell_type": "code",
   "execution_count": 42,
   "metadata": {},
   "outputs": [
    {
     "name": "stdout",
     "output_type": "stream",
     "text": [
      "+------------+--------------------+-----------------------+\n",
      "| Percentile | Approved Projects  | Not Approved Projects |\n",
      "+------------+--------------------+-----------------------+\n",
      "|     0      |        0.66        |          1.97         |\n",
      "|     5      |       13.59        |         42.658        |\n",
      "|     10     |       33.834       |         74.028        |\n",
      "|     15     | 57.980000000000004 |         99.93         |\n",
      "|     20     |       76.938       |         119.06        |\n",
      "|     25     |       99.91        |         142.02        |\n",
      "|     30     |       116.41       |        163.052        |\n",
      "|     35     |      137.778       |        184.476        |\n",
      "|     40     |       157.05       |         209.71        |\n",
      "|     45     |       178.47       |         235.9         |\n",
      "|     50     |       199.0        |         262.96        |\n",
      "|     55     |       224.19       |   292.35200000000003  |\n",
      "|     60     |      255.716       |        325.052        |\n",
      "|     65     |       284.95       |        362.968        |\n",
      "|     70     |      320.908       |         399.99        |\n",
      "|     75     | 365.84000000000003 |   450.15000000000003  |\n",
      "|     80     |      410.522       |        518.908        |\n",
      "|     85     |       479.0        |        617.916        |\n",
      "|     90     |      591.048       |   741.4060000000001   |\n",
      "|     95     |       799.99       |        992.118        |\n",
      "|    100     |       9999.0       |        8719.69        |\n",
      "+------------+--------------------+-----------------------+\n"
     ]
    }
   ],
   "source": [
    "# http://zetcode.com/python/prettytable/\n",
    "from prettytable import PrettyTable\n",
    "\n",
    "#If you get a ModuleNotFoundError error , install prettytable using: pip3 install prettytable\n",
    "\n",
    "x = PrettyTable()\n",
    "x.field_names = [\"Percentile\", \"Approved Projects\", \"Not Approved Projects\"]\n",
    "\n",
    "for i in range(0,101,5):\n",
    "    x.add_row([i,np.round(np.percentile(approved_price,i), 3), np.round(np.percentile(rejected_price,i), 3)])\n",
    "print(x)"
   ]
  },
  {
   "cell_type": "code",
   "execution_count": null,
   "metadata": {},
   "outputs": [],
   "source": []
  },
  {
   "cell_type": "markdown",
   "metadata": {},
   "source": [
    "## Number of previously posted projects"
   ]
  },
  {
   "cell_type": "code",
   "execution_count": 43,
   "metadata": {},
   "outputs": [],
   "source": [
    "approved_teacher_number_of_previously_posted_projects = train_data[train_data['project_is_approved']==1]['teacher_number_of_previously_posted_projects'].values\n",
    "\n",
    "rejected_teacher_number_of_previously_posted_projects = train_data[train_data['project_is_approved']==0]['teacher_number_of_previously_posted_projects'].values"
   ]
  },
  {
   "cell_type": "code",
   "execution_count": 44,
   "metadata": {},
   "outputs": [
    {
     "data": {
      "image/png": "[encoded data removed]",
      "text/plain": [
       "<Figure size 576x432 with 1 Axes>"
      ]
     },
     "metadata": {},
     "output_type": "display_data"
    }
   ],
   "source": [
    "# sample code taken from https://stackoverflow.com/questions/24337726/draw-box-plot-with-matplotlib\n",
    "\n",
    "import matplotlib.pyplot as plt\n",
    "\n",
    "x1 = approved_teacher_number_of_previously_posted_projects\n",
    "x2 = rejected_teacher_number_of_previously_posted_projects\n",
    "\n",
    "\n",
    "fig = plt.figure(figsize=(8,6))\n",
    "\n",
    "plt.boxplot([x for x in [x1, x2]], 0,'rs', 1)\n",
    "plt.xticks([y+1 for y in range(len([x1, x2]))], ['projects_approved', 'projects_rejected'])\n",
    "plt.ylabel('teacher_number_of_previously_posted_projects')\n",
    "t = plt.title('previously_posted_project_approved_vs_notapproved')\n",
    "plt.grid()\n",
    "plt.show()"
   ]
  },
  {
   "cell_type": "markdown",
   "metadata": {},
   "source": [
    "##### Cannot be concluded from the graph"
   ]
  },
  {
   "cell_type": "code",
   "execution_count": 45,
   "metadata": {},
   "outputs": [
    {
     "name": "stdout",
     "output_type": "stream",
     "text": [
      "+------------+-------------------+-----------------------+\n",
      "| Percentile | Approved Projects | Not Approved Projects |\n",
      "+------------+-------------------+-----------------------+\n",
      "|     0      |        0.0        |          0.0          |\n",
      "|     5      |        0.0        |          0.0          |\n",
      "|     10     |        0.0        |          0.0          |\n",
      "|     15     |        0.0        |          0.0          |\n",
      "|     20     |        0.0        |          0.0          |\n",
      "|     25     |        0.0        |          0.0          |\n",
      "|     30     |        1.0        |          0.0          |\n",
      "|     35     |        1.0        |          1.0          |\n",
      "|     40     |        1.0        |          1.0          |\n",
      "|     45     |        2.0        |          1.0          |\n",
      "|     50     |        2.0        |          2.0          |\n",
      "|     55     |        3.0        |          2.0          |\n",
      "|     60     |        4.0        |          3.0          |\n",
      "|     65     |        5.0        |          3.0          |\n",
      "|     70     |        7.0        |          4.0          |\n",
      "|     75     |        10.0       |          6.0          |\n",
      "|     80     |        13.0       |          8.0          |\n",
      "|     85     |        19.0       |          11.0         |\n",
      "|     90     |        30.0       |          17.0         |\n",
      "|     95     |        57.0       |          31.0         |\n",
      "|    100     |       437.0       |         345.0         |\n",
      "+------------+-------------------+-----------------------+\n"
     ]
    }
   ],
   "source": [
    "# http://zetcode.com/python/prettytable/\n",
    "from prettytable import PrettyTable\n",
    "\n",
    "#If you get a ModuleNotFoundError error , install prettytable using: pip3 install prettytable\n",
    "\n",
    "x = PrettyTable()\n",
    "x.field_names = [\"Percentile\", \"Approved Projects\", \"Not Approved Projects\"]\n",
    "\n",
    "for i in range(0,101,5):\n",
    "    x.add_row([i,np.round(np.percentile(approved_teacher_number_of_previously_posted_projects,i), 3), np.round(np.percentile(rejected_teacher_number_of_previously_posted_projects,i), 3)])\n",
    "print(x)"
   ]
  },
  {
   "cell_type": "code",
   "execution_count": 46,
   "metadata": {},
   "outputs": [
    {
     "data": {
      "image/png": "[encoded data removed]",
      "text/plain": [
       "<Figure size 828x720 with 1 Axes>"
      ]
     },
     "metadata": {},
     "output_type": "display_data"
    }
   ],
   "source": [
    "\n",
    "sns.FacetGrid(train_data, hue=\"project_is_approved\", size=10) \\\n",
    "   .map(sns.distplot, \"teacher_number_of_previously_posted_projects\") \\\n",
    "   .add_legend();\n",
    "plt.title(\" \")\n",
    "plt.ylabel('prob')\n",
    "\n",
    "plt.show()\n"
   ]
  },
  {
   "cell_type": "markdown",
   "metadata": {},
   "source": [
    "#### No conclusions can be drawn from the graph"
   ]
  },
  {
   "cell_type": "code",
   "execution_count": 47,
   "metadata": {},
   "outputs": [
    {
     "data": {
      "image/png": "[encoded data removed]",
      "text/plain": [
       "<Figure size 432x288 with 1 Axes>"
      ]
     },
     "metadata": {},
     "output_type": "display_data"
    }
   ],
   "source": [
    "train_data.plot(kind='scatter',x='teacher_number_of_previously_posted_projects',y='project_is_approved')\n",
    "plt.title('SCATTER PLOT BW PREVIOULSY POSTED PRJECTS AND APPROVAL ')\n",
    "plt.show()\n"
   ]
  },
  {
   "cell_type": "markdown",
   "metadata": {},
   "source": [
    "#### number of previously posted projects > 230 then project is approved"
   ]
  },
  {
   "cell_type": "markdown",
   "metadata": {},
   "source": [
    "### project_resource_summary- precence of digits"
   ]
  },
  {
   "cell_type": "code",
   "execution_count": 48,
   "metadata": {},
   "outputs": [],
   "source": [
    "y_value_counts = train_data['project_resource_summary'].values"
   ]
  },
  {
   "cell_type": "code",
   "execution_count": null,
   "metadata": {},
   "outputs": [],
   "source": []
  },
  {
   "cell_type": "code",
   "execution_count": 49,
   "metadata": {},
   "outputs": [],
   "source": [
    "\n",
    "digits_precense=[]"
   ]
  },
  {
   "cell_type": "code",
   "execution_count": 50,
   "metadata": {},
   "outputs": [],
   "source": [
    "## https://stackoverflow.com/questions/19859282/check-if-a-string-contains-a-number\n",
    "\n",
    "import re\n",
    "def hasNumbers(inputString):\n",
    "    return bool(re.search(r'\\d', inputString))\n",
    "for word in train_data['project_resource_summary']:\n",
    "    \n",
    "    if hasNumbers(word)==True:\n",
    "        digits_precense.append(0)\n",
    "    else:\n",
    "        digits_precense.append(1)\n"
   ]
  },
  {
   "cell_type": "code",
   "execution_count": 51,
   "metadata": {},
   "outputs": [],
   "source": [
    "train_data.insert(8,'digits_precense',digits_precense,  allow_duplicates = True)#del train_data['digits_precense']\n"
   ]
  },
  {
   "cell_type": "code",
   "execution_count": null,
   "metadata": {},
   "outputs": [],
   "source": []
  },
  {
   "cell_type": "code",
   "execution_count": 52,
   "metadata": {},
   "outputs": [
    {
     "data": {
      "image/png": "[encoded data removed]",
      "text/plain": [
       "<Figure size 1440x360 with 1 Axes>"
      ]
     },
     "metadata": {},
     "output_type": "display_data"
    },
    {
     "name": "stdout",
     "output_type": "stream",
     "text": [
      "   digits_precense  project_is_approved  total       Avg\n",
      "1                1                62900  74730  0.841697\n",
      "0                0                11305  12668  0.892406\n",
      "==================================================\n",
      "   digits_precense  project_is_approved  total       Avg\n",
      "1                1                62900  74730  0.841697\n",
      "0                0                11305  12668  0.892406\n"
     ]
    }
   ],
   "source": [
    "univariate_barplots(train_data, 'digits_precense', 'project_is_approved', False)"
   ]
  },
  {
   "cell_type": "markdown",
   "metadata": {},
   "source": [
    "### From the above graph ,projects with digits are accepted more than without"
   ]
  },
  {
   "cell_type": "markdown",
   "metadata": {},
   "source": [
    "# Text Preprocessing_Essaytext"
   ]
  },
  {
   "cell_type": "code",
   "execution_count": 53,
   "metadata": {},
   "outputs": [
    {
     "data": {
      "text/html": [
       "<div>\n",
       "<style scoped>\n",
       "    .dataframe tbody tr th:only-of-type {\n",
       "        vertical-align: middle;\n",
       "    }\n",
       "\n",
       "    .dataframe tbody tr th {\n",
       "        vertical-align: top;\n",
       "    }\n",
       "\n",
       "    .dataframe thead th {\n",
       "        text-align: right;\n",
       "    }\n",
       "</style>\n",
       "<table border=\"1\" class=\"dataframe\">\n",
       "  <thead>\n",
       "    <tr style=\"text-align: right;\">\n",
       "      <th></th>\n",
       "      <th>Unnamed: 0</th>\n",
       "      <th>id</th>\n",
       "      <th>teacher_id</th>\n",
       "      <th>teacher_prefix</th>\n",
       "      <th>school_state</th>\n",
       "      <th>project_submitted_datetime</th>\n",
       "      <th>project_grade_category</th>\n",
       "      <th>project_subject_categories</th>\n",
       "      <th>digits_precense</th>\n",
       "      <th>project_subject_subcategories</th>\n",
       "      <th>...</th>\n",
       "      <th>project_essay_3</th>\n",
       "      <th>project_essay_4</th>\n",
       "      <th>project_resource_summary</th>\n",
       "      <th>teacher_number_of_previously_posted_projects</th>\n",
       "      <th>project_is_approved</th>\n",
       "      <th>clean_categories</th>\n",
       "      <th>clean_subcategories</th>\n",
       "      <th>essay</th>\n",
       "      <th>quantity</th>\n",
       "      <th>price</th>\n",
       "    </tr>\n",
       "  </thead>\n",
       "  <tbody>\n",
       "    <tr>\n",
       "      <th>46541</th>\n",
       "      <td>56301</td>\n",
       "      <td>p234543</td>\n",
       "      <td>6a4a7a092c8d890bb37dceec039cc4c7</td>\n",
       "      <td>Ms.</td>\n",
       "      <td>NY</td>\n",
       "      <td>2016-12-26 15:14:01</td>\n",
       "      <td>Grades 6-8</td>\n",
       "      <td>Math &amp; Science</td>\n",
       "      <td>1</td>\n",
       "      <td>Mathematics</td>\n",
       "      <td>...</td>\n",
       "      <td>NaN</td>\n",
       "      <td>NaN</td>\n",
       "      <td>My students need to be able to use technology ...</td>\n",
       "      <td>1</td>\n",
       "      <td>0</td>\n",
       "      <td>MathScience</td>\n",
       "      <td>Mathematics</td>\n",
       "      <td>My students come from a low socioeconomic area...</td>\n",
       "      <td>20</td>\n",
       "      <td>174.1</td>\n",
       "    </tr>\n",
       "    <tr>\n",
       "      <th>95309</th>\n",
       "      <td>85225</td>\n",
       "      <td>p215871</td>\n",
       "      <td>418d283af2c8ff0866bd5803c8030c1a</td>\n",
       "      <td>Mrs.</td>\n",
       "      <td>CA</td>\n",
       "      <td>2016-09-01 00:41:41</td>\n",
       "      <td>Grades PreK-2</td>\n",
       "      <td>Literacy &amp; Language</td>\n",
       "      <td>1</td>\n",
       "      <td>ESL, Literacy</td>\n",
       "      <td>...</td>\n",
       "      <td>NaN</td>\n",
       "      <td>NaN</td>\n",
       "      <td>My students need a Leveled Classroom Library w...</td>\n",
       "      <td>2</td>\n",
       "      <td>1</td>\n",
       "      <td>LiteracyLanguage</td>\n",
       "      <td>ESLLiteracy</td>\n",
       "      <td>Many of my students do not have access to a va...</td>\n",
       "      <td>2</td>\n",
       "      <td>718.0</td>\n",
       "    </tr>\n",
       "  </tbody>\n",
       "</table>\n",
       "<p>2 rows × 23 columns</p>\n",
       "</div>"
      ],
      "text/plain": [
       "       Unnamed: 0       id                        teacher_id teacher_prefix  \\\n",
       "46541       56301  p234543  6a4a7a092c8d890bb37dceec039cc4c7            Ms.   \n",
       "95309       85225  p215871  418d283af2c8ff0866bd5803c8030c1a           Mrs.   \n",
       "\n",
       "      school_state project_submitted_datetime project_grade_category  \\\n",
       "46541           NY        2016-12-26 15:14:01             Grades 6-8   \n",
       "95309           CA        2016-09-01 00:41:41          Grades PreK-2   \n",
       "\n",
       "      project_subject_categories  digits_precense  \\\n",
       "46541             Math & Science                1   \n",
       "95309        Literacy & Language                1   \n",
       "\n",
       "      project_subject_subcategories  ...   project_essay_3 project_essay_4  \\\n",
       "46541                   Mathematics  ...               NaN             NaN   \n",
       "95309                 ESL, Literacy  ...               NaN             NaN   \n",
       "\n",
       "                                project_resource_summary  \\\n",
       "46541  My students need to be able to use technology ...   \n",
       "95309  My students need a Leveled Classroom Library w...   \n",
       "\n",
       "      teacher_number_of_previously_posted_projects project_is_approved  \\\n",
       "46541                                            1                   0   \n",
       "95309                                            2                   1   \n",
       "\n",
       "        clean_categories  clean_subcategories  \\\n",
       "46541       MathScience           Mathematics   \n",
       "95309  LiteracyLanguage           ESLLiteracy   \n",
       "\n",
       "                                                   essay quantity  price  \n",
       "46541  My students come from a low socioeconomic area...       20  174.1  \n",
       "95309  Many of my students do not have access to a va...        2  718.0  \n",
       "\n",
       "[2 rows x 23 columns]"
      ]
     },
     "execution_count": 53,
     "metadata": {},
     "output_type": "execute_result"
    }
   ],
   "source": [
    "train_data.head(2)"
   ]
  },
  {
   "cell_type": "code",
   "execution_count": null,
   "metadata": {},
   "outputs": [],
   "source": [
    "\n"
   ]
  },
  {
   "cell_type": "code",
   "execution_count": 54,
   "metadata": {},
   "outputs": [],
   "source": [
    "# https://stackoverflow.com/a/47091490/4084039\n",
    "import re\n",
    "\n",
    "def decontracted(phrase):\n",
    "    # specific\n",
    "    phrase = re.sub(r\"won't\", \"will not\", phrase)\n",
    "    phrase = re.sub(r\"can\\'t\", \"can not\", phrase)\n",
    "\n",
    "    # general\n",
    "    phrase = re.sub(r\"n\\'t\", \" not\", phrase)\n",
    "    phrase = re.sub(r\"\\'re\", \" are\", phrase)\n",
    "    phrase = re.sub(r\"\\'s\", \" is\", phrase)\n",
    "    phrase = re.sub(r\"\\'d\", \" would\", phrase)\n",
    "    phrase = re.sub(r\"\\'ll\", \" will\", phrase)\n",
    "    phrase = re.sub(r\"\\'t\", \" not\", phrase)\n",
    "    phrase = re.sub(r\"\\'ve\", \" have\", phrase)\n",
    "    phrase = re.sub(r\"\\'m\", \" am\", phrase)\n",
    "    return phrase"
   ]
  },
  {
   "cell_type": "code",
   "execution_count": 55,
   "metadata": {},
   "outputs": [
    {
     "name": "stdout",
     "output_type": "stream",
     "text": [
      "As a teacher in a low-income/high poverty school district, my students are faced with several challenges both in and out of the classroom. Despite the many challenges they face, I am looking forward to introducing them to many aspects of the technology world that will foster imagination and a desire to break their generational poverty issues. \\r\\n\\r\\nIn order to close the achievement gap and bring them into our ever-changing technology filled world, I need the tools to make them feel successful and to start their path to learning excellence!Coming from a small, low-income rural community, my students struggle to get out of the immediate area in which they live. Some will never leave our small town. As their teacher, I have to do all I can to expose them to everything that could possibly help them to break the cycle of no education beyond middle and high school.\\r\\n\\r\\nI believe that with coding and the opportunity to explore their creativity in the Makerspace, my students will open doors never before encountered. The iPad, in conjunction with the coding program for OSMO will definitely introduce them to computer science, where there is currently a skill shortage. I also feel as if the Makey Makey will uncover the creative juices these students need to feel confident in the choices they begin to explore. The wobble pads and balance board will provide the individualism students need to express themselves while learning.\\r\\n\\r\\nWith these materials, I look forward to seeing my students succeed  while using new, exiting materials that will spark new interests.nannan\n",
      "==================================================\n"
     ]
    }
   ],
   "source": [
    "sent = decontracted(train_data['essay'].values[20001])\n",
    "print(sent)\n",
    "print(\"=\"*50)"
   ]
  },
  {
   "cell_type": "code",
   "execution_count": 56,
   "metadata": {},
   "outputs": [
    {
     "name": "stdout",
     "output_type": "stream",
     "text": [
      "As a teacher in a low-income/high poverty school district, my students are faced with several challenges both in and out of the classroom. Despite the many challenges they face, I am looking forward to introducing them to many aspects of the technology world that will foster imagination and a desire to break their generational poverty issues.     In order to close the achievement gap and bring them into our ever-changing technology filled world, I need the tools to make them feel successful and to start their path to learning excellence!Coming from a small, low-income rural community, my students struggle to get out of the immediate area in which they live. Some will never leave our small town. As their teacher, I have to do all I can to expose them to everything that could possibly help them to break the cycle of no education beyond middle and high school.    I believe that with coding and the opportunity to explore their creativity in the Makerspace, my students will open doors never before encountered. The iPad, in conjunction with the coding program for OSMO will definitely introduce them to computer science, where there is currently a skill shortage. I also feel as if the Makey Makey will uncover the creative juices these students need to feel confident in the choices they begin to explore. The wobble pads and balance board will provide the individualism students need to express themselves while learning.    With these materials, I look forward to seeing my students succeed  while using new, exiting materials that will spark new interests.nannan\n"
     ]
    }
   ],
   "source": [
    "# \\r \\n \\t remove from string python: http://texthandler.com/info/remove-line-breaks-python/\n",
    "sent = sent.replace('\\\\r', ' ')\n",
    "sent = sent.replace('\\\\\"', ' ')\n",
    "sent = sent.replace('\\\\n', ' ')\n",
    "print(sent)"
   ]
  },
  {
   "cell_type": "code",
   "execution_count": 57,
   "metadata": {},
   "outputs": [
    {
     "name": "stdout",
     "output_type": "stream",
     "text": [
      "As a teacher in a low-income/high poverty school district, my students are faced with several challenges both in and out of the classroom. Despite the many challenges they face, I am looking forward to introducing them to many aspects of the technology world that will foster imagination and a desire to break their generational poverty issues.     In order to close the achievement gap and bring them into our ever-changing technology filled world, I need the tools to make them feel successful and to start their path to learning excellence!Coming from a small, low-income rural community, my students struggle to get out of the immediate area in which they live. Some will never leave our small town. As their teacher, I have to do all I can to expose them to everything that could possibly help them to break the cycle of no education beyond middle and high school.    I believe that with coding and the opportunity to explore their creativity in the Makerspace, my students will open doors never before encountered. The iPad, in conjunction with the coding program for OSMO will definitely introduce them to computer science, where there is currently a skill shortage. I also feel as if the Makey Makey will uncover the creative juices these students need to feel confident in the choices they begin to explore. The wobble pads and balance board will provide the individualism students need to express themselves while learning.    With these materials, I look forward to seeing my students succeed  while using new, exiting materials that will spark new interests.nannan\n"
     ]
    }
   ],
   "source": [
    "re.sub('[^A-Za-z0-9]+', ' ', sent)\n",
    "print(sent)"
   ]
  },
  {
   "cell_type": "code",
   "execution_count": 58,
   "metadata": {},
   "outputs": [],
   "source": [
    "# https://gist.github.com/sebleier/554280\n",
    "# we are removing the words from the stop words list: 'no', 'nor', 'not'\n",
    "stopwords= ['i', 'me', 'my', 'myself', 'we', 'our', 'ours', 'ourselves', 'you', \"you're\", \"you've\",\\\n",
    "            \"you'll\", \"you'd\", 'your', 'yours', 'yourself', 'yourselves', 'he', 'him', 'his', 'himself', \\\n",
    "            'she', \"she's\", 'her', 'hers', 'herself', 'it', \"it's\", 'its', 'itself', 'they', 'them', 'their',\\\n",
    "            'theirs', 'themselves', 'what', 'which', 'who', 'whom', 'this', 'that', \"that'll\", 'these', 'those', \\\n",
    "            'am', 'is', 'are', 'was', 'were', 'be', 'been', 'being', 'have', 'has', 'had', 'having', 'do', 'does', \\\n",
    "            'did', 'doing', 'a', 'an', 'the', 'and', 'but', 'if', 'or', 'because', 'as', 'until', 'while', 'of', \\\n",
    "            'at', 'by', 'for', 'with', 'about', 'against', 'between', 'into', 'through', 'during', 'before', 'after',\\\n",
    "            'above', 'below', 'to', 'from', 'up', 'down', 'in', 'out', 'on', 'off', 'over', 'under', 'again', 'further',\\\n",
    "            'then', 'once', 'here', 'there', 'when', 'where', 'why', 'how', 'all', 'any', 'both', 'each', 'few', 'more',\\\n",
    "            'most', 'other', 'some', 'such', 'only', 'own', 'same', 'so', 'than', 'too', 'very', \\\n",
    "            's', 't', 'can', 'will', 'just', 'don', \"don't\", 'should', \"should've\", 'now', 'd', 'll', 'm', 'o', 're', \\\n",
    "            've', 'y', 'ain', 'aren', \"aren't\", 'couldn', \"couldn't\", 'didn', \"didn't\", 'doesn', \"doesn't\", 'hadn',\\\n",
    "            \"hadn't\", 'hasn', \"hasn't\", 'haven', \"haven't\", 'isn', \"isn't\", 'ma', 'mightn', \"mightn't\", 'mustn',\\\n",
    "            \"mustn't\", 'needn', \"needn't\", 'shan', \"shan't\", 'shouldn', \"shouldn't\", 'wasn', \"wasn't\", 'weren', \"weren't\", \\\n",
    "            'won', \"won't\", 'wouldn', \"wouldn't\"]"
   ]
  },
  {
   "cell_type": "code",
   "execution_count": 59,
   "metadata": {},
   "outputs": [
    {
     "name": "stdout",
     "output_type": "stream",
     "text": [
      "Requirement already satisfied: tqdm in ./.local/lib/python3.6/site-packages (4.32.2)\n",
      "\u001b[33mWARNING: You are using pip version 19.1.1, however version 19.2.1 is available.\n",
      "You should consider upgrading via the 'pip install --upgrade pip' command.\u001b[0m\n"
     ]
    }
   ],
   "source": [
    "!pip3 install --user tqdm"
   ]
  },
  {
   "cell_type": "code",
   "execution_count": 60,
   "metadata": {},
   "outputs": [],
   "source": [
    "from tqdm import tqdm"
   ]
  },
  {
   "cell_type": "code",
   "execution_count": 61,
   "metadata": {},
   "outputs": [
    {
     "name": "stderr",
     "output_type": "stream",
     "text": [
      "100%|██████████| 87398/87398 [00:42<00:00, 2050.38it/s]\n"
     ]
    }
   ],
   "source": [
    "# Combining all the above statemennts \n",
    "from tqdm import tqdm\n",
    "preprocessed_essays = []\n",
    "# tqdm is for printing the status bar\n",
    "for sentance in tqdm(train_data['essay'].values):\n",
    "    sent = decontracted(sentance)\n",
    "    sent= sent.lower()\n",
    "    sent = sent.replace('\\\\r', ' ')\n",
    "    sent = sent.replace('\\\\\"', ' ')\n",
    "    sent = sent.replace('\\\\n', ' ')\n",
    "    sent = re.sub('[^A-Za-z0-9]+', ' ', sent)\n",
    "    # https://gist.github.com/sebleier/55428\n",
    "    sent = ' '.join(e for e in sent.split() if e not in stopwords)\n",
    "    preprocessed_essays.append(sent.lower().strip())"
   ]
  },
  {
   "cell_type": "code",
   "execution_count": 62,
   "metadata": {},
   "outputs": [
    {
     "data": {
      "text/plain": [
       "'teach science unlike academic subjects not grouped ability therefore classes hetergeneously mixed ability levels creates broad range gifted student students struggle reading comprehension students various learning disabilities school true melting pot nationalities backgrounds ethniticities cultures ability levels socioeconomic levels students opportunity learn not academics athletics fine arts better citizens world learning alongside different school almost 50 free reduced lunch therefore many students not come materials need school unable donate materials classroom donorschoose invaluable resource supporting classroom would not successful without donors like 7th grade science curriculum learn parts function compound light microscopes cells unit worksheets textbooks teach microscopes fun would learning microscopes without using many students learning use microscopes first time seventh grade project enable students learn use microscopes correctly confidently also give good variety starter slides view project includes microscope mats show labeled diagram microscope well steps students need take preparing slide focusing microscope mats help give students confidence proper direction work station project also include middle school level booklet students complete view microscope slides takes step step prepare slides focus microscope record observations lastly project includes several sets microscope slides including living specimens kingdoms non living items crystals hair blanks slides students prepare slides materials would provide everything need put microscopes good use classrooms students eager get started need help thank supporting classroom nannan'"
      ]
     },
     "execution_count": 62,
     "metadata": {},
     "output_type": "execute_result"
    }
   ],
   "source": [
    "# after preprocesing\n",
    "preprocessed_essays[20000]"
   ]
  },
  {
   "cell_type": "code",
   "execution_count": null,
   "metadata": {},
   "outputs": [],
   "source": []
  },
  {
   "cell_type": "markdown",
   "metadata": {},
   "source": [
    "# Title_text_Preprocessing"
   ]
  },
  {
   "cell_type": "code",
   "execution_count": 63,
   "metadata": {},
   "outputs": [
    {
     "name": "stderr",
     "output_type": "stream",
     "text": [
      "100%|██████████| 87398/87398 [00:01<00:00, 47587.86it/s]\n"
     ]
    }
   ],
   "source": [
    "\n",
    "\n",
    "preprocessed_titles = []\n",
    "\n",
    "for sentance in tqdm(train_data['project_title'].values):\n",
    "    sent = decontracted(sentance)\n",
    "    sent = sent.lower()\n",
    "    sent = sent.replace('\\\\r', ' ')\n",
    "    sent = sent.replace('\\\\\"', ' ')\n",
    "    sent = sent.replace('\\\\n', ' ')\n",
    "    sent = re.sub('[^A-Za-z0-9]+', ' ', sent)\n",
    "    # https://gist.github.com/sebleier/554280\n",
    "    sent = ' '.join(e for e in sent.split() if e not in stopwords)\n",
    "    preprocessed_titles.append(sent.lower().strip())"
   ]
  },
  {
   "cell_type": "code",
   "execution_count": 64,
   "metadata": {},
   "outputs": [
    {
     "data": {
      "text/plain": [
       "'mrs love class loves literacy'"
      ]
     },
     "execution_count": 64,
     "metadata": {},
     "output_type": "execute_result"
    }
   ],
   "source": [
    "preprocessed_titles[1]"
   ]
  },
  {
   "cell_type": "code",
   "execution_count": 65,
   "metadata": {},
   "outputs": [],
   "source": [
    "from sklearn.feature_extraction.text import CountVectorizer"
   ]
  },
  {
   "cell_type": "code",
   "execution_count": 66,
   "metadata": {},
   "outputs": [
    {
     "data": {
      "text/plain": [
       "{'Warmth': 1388,\n",
       " 'CareHunger': 1388,\n",
       " 'HistoryCivics': 5914,\n",
       " 'MusicArts': 10293,\n",
       " 'AppliedLearning': 12135,\n",
       " 'SpecialNeeds': 13642,\n",
       " 'HealthSports': 14223,\n",
       " 'MathScience': 41421,\n",
       " 'LiteracyLanguage': 52239}"
      ]
     },
     "execution_count": 66,
     "metadata": {},
     "output_type": "execute_result"
    }
   ],
   "source": [
    "sorted_cat_dict"
   ]
  },
  {
   "cell_type": "code",
   "execution_count": 67,
   "metadata": {},
   "outputs": [
    {
     "data": {
      "text/plain": [
       "array(['sixth_eigth', 'PreK-2', 'three_five', 'nine_twelve'], dtype=object)"
      ]
     },
     "execution_count": 67,
     "metadata": {},
     "output_type": "execute_result"
    }
   ],
   "source": [
    "project_grade_category_upd=[]\n",
    "for word in train_data['project_grade_category']:\n",
    "    word=str(word.replace('Grades','').strip())\n",
    "    word=str(word.replace('6-8','sixth_eigth').strip())\n",
    "    word=str(word.replace('3-5','three_five').strip())\n",
    "    word=str(word.replace('9-12','nine_twelve').strip())\n",
    "    project_grade_category_upd.append(word)\n",
    "#print(project_grade_category_upd)\n",
    "train_data['project_grade_category_upd']=project_grade_category_upd\n",
    "train_data['project_grade_category_upd'].unique()"
   ]
  },
  {
   "cell_type": "code",
   "execution_count": 68,
   "metadata": {},
   "outputs": [],
   "source": [
    "from sklearn.model_selection import train_test_split\n",
    "train_data_y=train_data.pop('project_is_approved')\n",
    "X_train, X_test, y_train, y_test = train_test_split(train_data, train_data_y,\n",
    "                                                    stratify=train_data_y, \n",
    "                                                    test_size=0.15)"
   ]
  },
  {
   "cell_type": "code",
   "execution_count": 69,
   "metadata": {},
   "outputs": [],
   "source": [
    "X_train, X_cv, y_train, y_cv = train_test_split(X_train, y_train,\n",
    "                                                    stratify=y_train, \n",
    "                                                    test_size=0.15)"
   ]
  },
  {
   "cell_type": "code",
   "execution_count": 70,
   "metadata": {},
   "outputs": [
    {
     "name": "stdout",
     "output_type": "stream",
     "text": [
      "(63144, 23)\n",
      "(13110, 23)\n",
      "(11144, 23)\n"
     ]
    }
   ],
   "source": [
    "print(X_train.shape)\n",
    "print(X_test.shape)\n",
    "print(X_cv.shape)"
   ]
  },
  {
   "cell_type": "markdown",
   "metadata": {},
   "source": [
    "## one_hotencoding_categories"
   ]
  },
  {
   "cell_type": "code",
   "execution_count": 71,
   "metadata": {},
   "outputs": [
    {
     "name": "stdout",
     "output_type": "stream",
     "text": [
      "Shape of matrix after one hot encodig  (63144, 9)\n"
     ]
    }
   ],
   "source": [
    "# we use count vectorizer to convert the values into one hot encoded features\n",
    "from sklearn.feature_extraction.text import CountVectorizer\n",
    "vectorizer = CountVectorizer(vocabulary=list(sorted_cat_dict.keys()), lowercase=False, binary=True)\n",
    "vectorizer.fit(X_train['clean_categories'].values)\n",
    "fea_cat=(vectorizer.get_feature_names())\n",
    "fea_cat=[str(r) for r in fea_cat ]\n",
    "\n",
    "\n",
    "traincategories_one_hot = vectorizer.transform(X_train['clean_categories'].values)\n",
    "testcategories_one_hot = vectorizer.transform(X_test['clean_categories'].values)\n",
    "cvcategories_one_hot = vectorizer.transform(X_cv['clean_categories'].values)\n",
    "print(\"Shape of matrix after one hot encodig \",traincategories_one_hot.shape)"
   ]
  },
  {
   "cell_type": "code",
   "execution_count": 72,
   "metadata": {},
   "outputs": [],
   "source": [
    "#print(testcategories_one_hot)"
   ]
  },
  {
   "cell_type": "code",
   "execution_count": 73,
   "metadata": {},
   "outputs": [
    {
     "name": "stdout",
     "output_type": "stream",
     "text": [
      "['MathScience ' 'LiteracyLanguage ' 'MathScience ' ...\n",
      " 'MathScience LiteracyLanguage ' 'MusicArts '\n",
      " 'LiteracyLanguage MathScience ']\n"
     ]
    }
   ],
   "source": [
    "print(train_data['clean_categories'].values)"
   ]
  },
  {
   "cell_type": "code",
   "execution_count": 74,
   "metadata": {},
   "outputs": [
    {
     "name": "stdout",
     "output_type": "stream",
     "text": [
      "['Mathematics' 'ESLLiteracy' 'Applied SciencesMathematics' ...\n",
      " 'Health  Life ScienceLiteracy' 'MusicPerforming Arts'\n",
      " 'LiteracyMathematics']\n"
     ]
    }
   ],
   "source": [
    "print(train_data['clean_subcategories'].values)"
   ]
  },
  {
   "cell_type": "markdown",
   "metadata": {},
   "source": [
    "## one_hotencoding_subcategories"
   ]
  },
  {
   "cell_type": "code",
   "execution_count": 75,
   "metadata": {},
   "outputs": [
    {
     "name": "stdout",
     "output_type": "stream",
     "text": [
      "Shape of matrix after one hot encodig  (63144, 375)\n"
     ]
    }
   ],
   "source": [
    "# we use count vectorizer to convert the values into one hot encoded features\n",
    "vectorizer = CountVectorizer(vocabulary=list(sorted_sub_cat_dict.keys()), lowercase=False, binary=True)\n",
    "vectorizer.fit(X_train['clean_subcategories'].values)\n",
    "fea_subcat=(vectorizer.get_feature_names())\n",
    "\n",
    "\n",
    "\n",
    "trainsub_categories_one_hot = vectorizer.transform(X_train['clean_subcategories'].values)\n",
    "testsub_categories_one_hot = vectorizer.transform(X_test['clean_subcategories'].values)\n",
    "cvsub_categories_one_hot = vectorizer.transform(X_cv['clean_subcategories'].values)\n",
    "print(\"Shape of matrix after one hot encodig \",trainsub_categories_one_hot.shape)"
   ]
  },
  {
   "cell_type": "code",
   "execution_count": 76,
   "metadata": {},
   "outputs": [],
   "source": [
    "fea_subcat=[str(r) for r in fea_subcat ]"
   ]
  },
  {
   "cell_type": "code",
   "execution_count": null,
   "metadata": {},
   "outputs": [],
   "source": []
  },
  {
   "cell_type": "markdown",
   "metadata": {},
   "source": [
    "## one_hotencoding_state"
   ]
  },
  {
   "cell_type": "code",
   "execution_count": 77,
   "metadata": {},
   "outputs": [
    {
     "name": "stdout",
     "output_type": "stream",
     "text": [
      "Shape of matrix after one hot encodig  (13110, 51)\n"
     ]
    }
   ],
   "source": [
    "# we use count vectorizer to convert the values into one hot encoded features\n",
    "vectorizer = CountVectorizer(lowercase=False, binary=True)\n",
    "vectorizer.fit(X_train['school_state'].values)\n",
    "fea_state=(vectorizer.get_feature_names())\n",
    "\n",
    "\n",
    "trainsub_school_state_hot = vectorizer.transform(X_train['school_state'].values)\n",
    "testsub_school_state_hot = vectorizer.transform(X_test['school_state'].values)\n",
    "cvsub_school_state_hot = vectorizer.transform(X_cv['school_state'].values)\n",
    "print(\"Shape of matrix after one hot encodig \",testsub_school_state_hot.shape)"
   ]
  },
  {
   "cell_type": "code",
   "execution_count": 78,
   "metadata": {},
   "outputs": [],
   "source": [
    "fea_state=[str(r) for r in fea_state ]"
   ]
  },
  {
   "cell_type": "markdown",
   "metadata": {},
   "source": [
    "## one_hotencoding_teacherprefix"
   ]
  },
  {
   "cell_type": "code",
   "execution_count": 79,
   "metadata": {},
   "outputs": [
    {
     "name": "stdout",
     "output_type": "stream",
     "text": [
      "Shape of matrix after one hot encodig  (13110, 6)\n"
     ]
    }
   ],
   "source": [
    "# https://stackoverflow.com/questions/22005911/convert-columns-to-string-in-pandas\n",
    "vectorizer = CountVectorizer(encoding='string',decode_error='ignore',lowercase=False, binary=True)\n",
    "vectorizer.fit((X_train['teacher_prefix'].astype(str)).values)\n",
    "fea_teacherprefix=(vectorizer.get_feature_names())\n",
    "\n",
    "\n",
    "trainteacher_prefix_one_hot = vectorizer.transform((X_train['teacher_prefix'].astype(str)).values)\n",
    "testteacher_prefix_one_hot = vectorizer.transform((X_test['teacher_prefix'].astype(str)).values)\n",
    "cvteacher_prefix_one_hot = vectorizer.transform((X_cv['teacher_prefix'].astype(str)).values)\n",
    "print(\"Shape of matrix after one hot encodig \",testteacher_prefix_one_hot.shape)"
   ]
  },
  {
   "cell_type": "code",
   "execution_count": 80,
   "metadata": {},
   "outputs": [],
   "source": [
    "fea_teacherprefix=[str(r) for r in fea_teacherprefix ]"
   ]
  },
  {
   "cell_type": "code",
   "execution_count": 81,
   "metadata": {},
   "outputs": [
    {
     "data": {
      "text/plain": [
       "array(['Ms.', 'Mrs.', 'Mr.', 'Teacher', 'Dr.', nan], dtype=object)"
      ]
     },
     "execution_count": 81,
     "metadata": {},
     "output_type": "execute_result"
    }
   ],
   "source": [
    "train_data['teacher_prefix'].unique()"
   ]
  },
  {
   "cell_type": "markdown",
   "metadata": {},
   "source": [
    "## one_hotencoding_project_grade_category"
   ]
  },
  {
   "cell_type": "code",
   "execution_count": 82,
   "metadata": {},
   "outputs": [
    {
     "name": "stdout",
     "output_type": "stream",
     "text": [
      "Shape of matrix after one hot encodig  (13110, 4)\n"
     ]
    }
   ],
   "source": [
    "# https://stackoverflow.com/questions/22005911/convert-columns-to-string-in-pandas\n",
    "vectorizer = CountVectorizer(lowercase=False, binary=True)\n",
    "vectorizer.fit((X_train['project_grade_category_upd'].astype(str)).values)\n",
    "fea_project_grade_category=(vectorizer.get_feature_names())\n",
    "\n",
    "\n",
    "trainproject_grade_category_upd_one_hot = vectorizer.transform((X_train['project_grade_category_upd'].astype(str)).values)\n",
    "testproject_grade_category_upd_one_hot = vectorizer.transform((X_test['project_grade_category_upd'].astype(str)).values)\n",
    "cvproject_grade_category_upd_one_hot = vectorizer.transform((X_cv['project_grade_category_upd'].astype(str)).values)\n",
    "\n",
    "print(\"Shape of matrix after one hot encodig \",testproject_grade_category_upd_one_hot.shape)"
   ]
  },
  {
   "cell_type": "code",
   "execution_count": 83,
   "metadata": {},
   "outputs": [],
   "source": [
    "fea_project_grade_category=[str(r) for r in fea_project_grade_category ]"
   ]
  },
  {
   "cell_type": "markdown",
   "metadata": {},
   "source": [
    "### text_bow_essay"
   ]
  },
  {
   "cell_type": "code",
   "execution_count": 84,
   "metadata": {},
   "outputs": [],
   "source": [
    "# We are considering only the words which appeared in at least 10 documents(rows or projects).\n",
    "vectorizer = CountVectorizer(min_df=10)\n",
    "\n",
    "\n",
    "X_train_essay_bow = vectorizer.fit_transform(X_train['essay'])\n",
    "fea_essay_bow=(vectorizer.get_feature_names())\n",
    "X_test_essay_bow = vectorizer.transform(X_test['essay'])\n",
    "X_cv_essay_bow = vectorizer.transform(X_cv['essay'])\n"
   ]
  },
  {
   "cell_type": "code",
   "execution_count": 85,
   "metadata": {},
   "outputs": [],
   "source": [
    "fea_essay_bow=[str(r) for r in fea_essay_bow ]"
   ]
  },
  {
   "cell_type": "markdown",
   "metadata": {},
   "source": [
    "### title_bow"
   ]
  },
  {
   "cell_type": "code",
   "execution_count": 86,
   "metadata": {},
   "outputs": [],
   "source": [
    "# We are considering only the words which appeared in at least 10 documents(rows or projects).\n",
    "vectorizer = CountVectorizer(min_df=10)\n",
    "X_train_title_bow = vectorizer.fit_transform(X_train['project_title'])\n",
    "fea_title_bow=(vectorizer.get_feature_names())\n",
    "X_test_title_bow = vectorizer.transform(X_test['project_title'])\n",
    "X_cv_title_bow = vectorizer.transform(X_cv['project_title'])\n"
   ]
  },
  {
   "cell_type": "code",
   "execution_count": 87,
   "metadata": {},
   "outputs": [],
   "source": [
    "fea_title_bow=[str(r) for r in fea_title_bow ]"
   ]
  },
  {
   "cell_type": "markdown",
   "metadata": {},
   "source": [
    "## tfidf_essay"
   ]
  },
  {
   "cell_type": "code",
   "execution_count": 88,
   "metadata": {},
   "outputs": [],
   "source": [
    "from sklearn.feature_extraction.text import TfidfVectorizer\n",
    "vectorizer = TfidfVectorizer(min_df=10)\n",
    "X_train_essay_tfidf = vectorizer.fit_transform(X_train['essay'])\n",
    "fea_essay_tfidf=(vectorizer.get_feature_names())\n",
    "X_test_essay_tfidf = vectorizer.transform(X_test['essay'])\n",
    "X_cv_essay_tfidf = vectorizer.transform(X_cv['essay'])\n"
   ]
  },
  {
   "cell_type": "markdown",
   "metadata": {},
   "source": [
    "### tfidf_title"
   ]
  },
  {
   "cell_type": "code",
   "execution_count": 89,
   "metadata": {},
   "outputs": [],
   "source": [
    "from sklearn.feature_extraction.text import TfidfVectorizer\n",
    "vectorizer = TfidfVectorizer(min_df=10)\n",
    "X_train_title_tfidf = vectorizer.fit_transform(X_train['project_title'])\n",
    "fea_title_tfidf=(vectorizer.get_feature_names())\n",
    "X_test_title_tfidf = vectorizer.transform(X_test['project_title'])\n",
    "X_cv_title_tfidf = vectorizer.transform(X_cv['project_title'])\n"
   ]
  },
  {
   "cell_type": "code",
   "execution_count": null,
   "metadata": {},
   "outputs": [],
   "source": []
  },
  {
   "cell_type": "code",
   "execution_count": 90,
   "metadata": {},
   "outputs": [
    {
     "data": {
      "text/plain": [
       "<63144x2439 sparse matrix of type '<class 'numpy.float64'>'\n",
       "\twith 285847 stored elements in Compressed Sparse Row format>"
      ]
     },
     "execution_count": 90,
     "metadata": {},
     "output_type": "execute_result"
    }
   ],
   "source": [
    "X_train_title_tfidf"
   ]
  },
  {
   "cell_type": "markdown",
   "metadata": {},
   "source": [
    "### Price Normalisation"
   ]
  },
  {
   "cell_type": "code",
   "execution_count": 91,
   "metadata": {},
   "outputs": [],
   "source": [
    "from sklearn.preprocessing import MinMaxScaler \n",
    "from sklearn.preprocessing import Normalizer  \n",
    "\n",
    "#http://benalexkeen.com/feature-scaling-with-scikit-learn/"
   ]
  },
  {
   "cell_type": "code",
   "execution_count": 92,
   "metadata": {},
   "outputs": [],
   "source": [
    "\n",
    "\n",
    "price_scalar=Normalizer()\n",
    "\n"
   ]
  },
  {
   "cell_type": "code",
   "execution_count": 93,
   "metadata": {},
   "outputs": [
    {
     "data": {
      "text/plain": [
       "Normalizer(copy=True, norm='l2')"
      ]
     },
     "execution_count": 93,
     "metadata": {},
     "output_type": "execute_result"
    }
   ],
   "source": [
    "price_scalar\n",
    "\n"
   ]
  },
  {
   "cell_type": "code",
   "execution_count": 94,
   "metadata": {},
   "outputs": [
    {
     "name": "stdout",
     "output_type": "stream",
     "text": [
      "[[0.00266289 0.00010072 0.00496013 ... 0.00584597 0.00126488 0.00058941]]\n"
     ]
    }
   ],
   "source": [
    "X_train_price_standardized = price_scalar.fit_transform(X_train['price'].values.reshape(1, -1))\n",
    "print(X_train_price_standardized)\n"
   ]
  },
  {
   "cell_type": "code",
   "execution_count": 95,
   "metadata": {},
   "outputs": [],
   "source": [
    "X_test_price_standardized = price_scalar.transform(X_test['price'].values.reshape(1,-1))\n",
    "X_cv_price_standardized = price_scalar.transform(X_cv['price'].values.reshape(1,-1))"
   ]
  },
  {
   "cell_type": "markdown",
   "metadata": {},
   "source": [
    "### Standardising previously posted projects"
   ]
  },
  {
   "cell_type": "code",
   "execution_count": 96,
   "metadata": {},
   "outputs": [],
   "source": [
    "\n",
    "teacher_number_of_previously_posted_projects_scalar = Normalizer()\n",
    "teacher_number_of_previously_posted_projects_scalar.fit(train_data['teacher_number_of_previously_posted_projects'].values.reshape(1,-1)) # finding the mean and standard deviation of this data\n",
    "\n",
    "X_train_teacher_number_of_previously_posted_projects_standardized = teacher_number_of_previously_posted_projects_scalar.transform(X_train['teacher_number_of_previously_posted_projects'].values.reshape(1,-1))\n",
    "X_test_teacher_number_of_previously_posted_projects_standardized = teacher_number_of_previously_posted_projects_scalar.transform(X_test['teacher_number_of_previously_posted_projects'].values.reshape(1,-1))\n",
    "X_cv_teacher_number_of_previously_posted_projects_standardized = teacher_number_of_previously_posted_projects_scalar.transform(X_cv['teacher_number_of_previously_posted_projects'].values.reshape(1,-1))"
   ]
  },
  {
   "cell_type": "code",
   "execution_count": 97,
   "metadata": {},
   "outputs": [
    {
     "data": {
      "text/plain": [
       "array([[0.00029054, 0.00552026, 0.        , ..., 0.05142555, 0.0029054 ,\n",
       "        0.00116216]])"
      ]
     },
     "execution_count": 97,
     "metadata": {},
     "output_type": "execute_result"
    }
   ],
   "source": [
    "X_test_teacher_number_of_previously_posted_projects_standardized"
   ]
  },
  {
   "cell_type": "code",
   "execution_count": 98,
   "metadata": {},
   "outputs": [],
   "source": [
    "list_features=[]\n",
    "features=[fea_cat,fea_subcat,fea_project_grade_category,fea_title_bow,fea_essay_bow,'price','teacher_number_of_previously_posted_projects']\n",
    "for i in features:\n",
    "    list_features.extend(i)\n",
    "\n",
    "    "
   ]
  },
  {
   "cell_type": "markdown",
   "metadata": {},
   "source": [
    "#### BOW_STACKING"
   ]
  },
  {
   "cell_type": "code",
   "execution_count": 99,
   "metadata": {},
   "outputs": [],
   "source": [
    "# merge two sparse matrices: https://stackoverflow.com/a/19710648/4084039\n",
    "from scipy.sparse import hstack\n",
    "# with the same hstack function we are concatinating a sparse matrix and a dense matirx :)\n",
    "x1_train = hstack((traincategories_one_hot, trainsub_categories_one_hot,trainproject_grade_category_upd_one_hot,X_train_title_bow,X_train_essay_bow,X_train_price_standardized.reshape(-1,1),X_train_teacher_number_of_previously_posted_projects_standardized.reshape(-1,1)))\n",
    "x1_test=hstack((testcategories_one_hot, testsub_categories_one_hot,testproject_grade_category_upd_one_hot,X_test_title_bow,X_test_essay_bow,X_test_price_standardized.reshape(-1,1),X_test_teacher_number_of_previously_posted_projects_standardized.reshape(-1,1)))\n",
    "x1_cv=hstack((cvcategories_one_hot, cvsub_categories_one_hot,cvproject_grade_category_upd_one_hot,X_cv_title_bow,X_cv_essay_bow,X_cv_price_standardized.reshape(-1,1),X_cv_teacher_number_of_previously_posted_projects_standardized.reshape(-1,1)))\n"
   ]
  },
  {
   "cell_type": "code",
   "execution_count": 100,
   "metadata": {},
   "outputs": [
    {
     "data": {
      "text/plain": [
       "16723"
      ]
     },
     "execution_count": 100,
     "metadata": {},
     "output_type": "execute_result"
    }
   ],
   "source": [
    "len(list_features)"
   ]
  },
  {
   "cell_type": "markdown",
   "metadata": {},
   "source": [
    "#### TFIDF_STACKING"
   ]
  },
  {
   "cell_type": "code",
   "execution_count": 101,
   "metadata": {},
   "outputs": [],
   "source": [
    "# merge two sparse matrices: https://stackoverflow.com/a/19710648/4084039\n",
    "from scipy.sparse import hstack\n",
    "# with the same hstack function we are concatinating a sparse matrix and a dense matirx :)\n",
    "x2_train = hstack((traincategories_one_hot, trainsub_categories_one_hot,trainproject_grade_category_upd_one_hot,X_train_title_tfidf,X_train_essay_tfidf,X_train_price_standardized.reshape(-1,1),X_train_teacher_number_of_previously_posted_projects_standardized.reshape(-1,1)))\n",
    "x2_test=hstack((testcategories_one_hot, testsub_categories_one_hot,testproject_grade_category_upd_one_hot,X_test_title_tfidf,X_test_essay_tfidf,X_test_price_standardized.reshape(-1,1),X_test_teacher_number_of_previously_posted_projects_standardized.reshape(-1,1)))\n",
    "x2_cv=hstack((cvcategories_one_hot, cvsub_categories_one_hot,cvproject_grade_category_upd_one_hot,X_cv_title_tfidf,X_cv_essay_tfidf,X_cv_price_standardized.reshape(-1,1),X_cv_teacher_number_of_previously_posted_projects_standardized.reshape(-1,1)))\n"
   ]
  },
  {
   "cell_type": "code",
   "execution_count": 102,
   "metadata": {},
   "outputs": [
    {
     "data": {
      "text/plain": [
       "(63144, 16676)"
      ]
     },
     "execution_count": 102,
     "metadata": {},
     "output_type": "execute_result"
    }
   ],
   "source": [
    "x1_train.shape"
   ]
  },
  {
   "cell_type": "code",
   "execution_count": 103,
   "metadata": {},
   "outputs": [
    {
     "data": {
      "text/plain": [
       "(11144, 16676)"
      ]
     },
     "execution_count": 103,
     "metadata": {},
     "output_type": "execute_result"
    }
   ],
   "source": [
    "x1_cv.shape"
   ]
  },
  {
   "cell_type": "code",
   "execution_count": 104,
   "metadata": {},
   "outputs": [
    {
     "data": {
      "text/plain": [
       "(13110, 16676)"
      ]
     },
     "execution_count": 104,
     "metadata": {},
     "output_type": "execute_result"
    }
   ],
   "source": [
    "x1_test.shape"
   ]
  },
  {
   "cell_type": "code",
   "execution_count": null,
   "metadata": {},
   "outputs": [],
   "source": []
  },
  {
   "cell_type": "markdown",
   "metadata": {},
   "source": [
    "# BOW"
   ]
  },
  {
   "cell_type": "markdown",
   "metadata": {},
   "source": [
    "### GRIDSEARCH"
   ]
  },
  {
   "cell_type": "code",
   "execution_count": 105,
   "metadata": {},
   "outputs": [
    {
     "name": "stdout",
     "output_type": "stream",
     "text": [
      "GridSearchCV(cv='warn', error_score='raise-deprecating',\n",
      "       estimator=MultinomialNB(alpha=array([1.e-04, 1.e-03, 1.e-02, 1.e-01, 2.e-01, 3.e-01, 5.e-01, 1.e+00,\n",
      "       1.e+01, 1.e+02, 1.e+03]),\n",
      "       class_prior=[0.5, 0.5], fit_prior=True),\n",
      "       fit_params=None, iid='warn', n_jobs=None,\n",
      "       param_grid={'alpha': array([1.e-04, 1.e-03, 1.e-02, 1.e-01, 2.e-01, 3.e-01, 5.e-01, 1.e+00,\n",
      "       1.e+01, 1.e+02, 1.e+03])},\n",
      "       pre_dispatch='2*n_jobs', refit=True, return_train_score='warn',\n",
      "       scoring='roc_auc', verbose=0)\n",
      "0.6714929812847483\n",
      "0.3\n"
     ]
    }
   ],
   "source": [
    "#https://stackoverflow.com/questions/37689942/grid-search-finding-parameters-for-auc\n",
    "import numpy as np\n",
    "\n",
    "from sklearn.naive_bayes import MultinomialNB\n",
    "from sklearn.metrics import roc_auc_score\n",
    "\n",
    "\n",
    "from sklearn.model_selection import GridSearchCV\n",
    "# load the diabetes datasets\n",
    "\n",
    "# prepare a range of alpha values to test\n",
    "alphas = np.array([0.0001,0.001,0.01,0.1,0.2,0.3,0.5,1,10,100,1000])\n",
    "# create and fit a ridge regression model, testing each alpha\n",
    "model = MultinomialNB(alpha=alphas,class_prior=[0.5,0.5])\n",
    "grid = GridSearchCV(estimator=model, param_grid=dict(alpha=alphas),scoring='roc_auc')\n",
    "grid.fit(x1_cv, y_cv)\n",
    "print(grid)\n",
    "# summarize the results of the grid search\n",
    "print(grid.best_score_)\n",
    "print(grid.best_estimator_.alpha)"
   ]
  },
  {
   "cell_type": "code",
   "execution_count": 106,
   "metadata": {},
   "outputs": [],
   "source": [
    "from sklearn.metrics import roc_auc_score\n",
    "cv_auc=[]\n",
    "train_auc=[]\n",
    "for k in alphas:\n",
    "    \n",
    "    clf = MultinomialNB(alpha=k,class_prior=[0.5,0.5])\n",
    "    clf.fit(x1_train, y_train)\n",
    "    ycv_predict=(clf.predict(x1_cv))\n",
    "    ytrain_predict=(clf.predict(x1_train))\n",
    "    ycv_predictproba=(clf.predict_proba(x1_test))\n",
    "    ytrain_predictproba=(clf.predict_proba(x1_train))\n",
    "    cv_aucscore=roc_auc_score(y_test, ycv_predictproba[:,1], average=None, sample_weight=None, max_fpr=None)\n",
    "    train_aucscore=roc_auc_score(y_train, ytrain_predictproba[:,1], average=None, sample_weight=None, max_fpr=None)\n",
    "    cv_auc.append(cv_aucscore)\n",
    "    train_auc.append(train_aucscore)\n",
    "    "
   ]
  },
  {
   "cell_type": "code",
   "execution_count": 107,
   "metadata": {},
   "outputs": [],
   "source": [
    "import math as m\n",
    "\n",
    "xaxis=[]\n",
    "alphas = np.array([0.0001,0.001,0.01,0.1,0.2,0.3,0.5,1,10,100,1000])"
   ]
  },
  {
   "cell_type": "code",
   "execution_count": 108,
   "metadata": {},
   "outputs": [
    {
     "name": "stdout",
     "output_type": "stream",
     "text": [
      "[-3.999999999999999, -2.9999999999999996, -1.9999999999999996, -0.9999999999999998, -0.6989700043360187, -0.5228787452803376, -0.30102999566398114, 0.0, 1.0, 2.0, 2.9999999999999996]\n"
     ]
    }
   ],
   "source": [
    "for x in alphas:\n",
    "    \n",
    "    a=m.log(x,10)\n",
    "    xaxis.append(a)\n",
    "print(xaxis)    "
   ]
  },
  {
   "cell_type": "code",
   "execution_count": 109,
   "metadata": {},
   "outputs": [
    {
     "data": {
      "image/png": "[encoded data removed]",
      "text/plain": [
       "<Figure size 432x288 with 1 Axes>"
      ]
     },
     "metadata": {},
     "output_type": "display_data"
    }
   ],
   "source": [
    "# https://scikit-learn.org/stable/auto_examples/model_selection/plot_roc.html#sphx-glr-auto-examples-model-selection-plot-roc-py\n",
    "import matplotlib.pyplot as plt\n",
    "plt.figure()\n",
    "lw = 2\n",
    "plt.plot(xaxis,cv_auc, color='darkorange',\n",
    "         lw=lw, label='Test-AUC')\n",
    "plt.plot(xaxis, train_auc, color='green',\n",
    "         lw=lw, label='Train-AUC')\n",
    "\n",
    "#plt.xlim([0.0, 1.0])\n",
    "#plt.ylim([0.0, 1.05])\n",
    "plt.xlabel('log aplha')\n",
    "plt.ylabel('auc score')\n",
    "plt.title('Receiver operating characteristic comparision for Train vs Test')\n",
    "plt.legend(loc=\"lower right\")\n",
    "plt.show()"
   ]
  },
  {
   "cell_type": "markdown",
   "metadata": {},
   "source": [
    "## Test_data and Train_data -BOW-AUC"
   ]
  },
  {
   "cell_type": "markdown",
   "metadata": {},
   "source": [
    "### ROC_AUC"
   ]
  },
  {
   "cell_type": "code",
   "execution_count": 110,
   "metadata": {},
   "outputs": [
    {
     "data": {
      "text/plain": [
       "MultinomialNB(alpha=0.3, class_prior=[0.5, 0.5], fit_prior=True)"
      ]
     },
     "execution_count": 110,
     "metadata": {},
     "output_type": "execute_result"
    }
   ],
   "source": [
    "import numpy as np\n",
    "\n",
    "from sklearn.naive_bayes import MultinomialNB\n",
    "\n",
    "\n",
    "clf = MultinomialNB(alpha=0.3,class_prior=[0.5,0.5])\n",
    "clf.fit(x1_train, y_train)\n",
    "\n"
   ]
  },
  {
   "cell_type": "code",
   "execution_count": 111,
   "metadata": {},
   "outputs": [],
   "source": [
    "ytest_predict=(clf.predict(x1_test))\n",
    "ytrain_predict=(clf.predict(x1_train))"
   ]
  },
  {
   "cell_type": "code",
   "execution_count": 112,
   "metadata": {},
   "outputs": [],
   "source": [
    "ytest_predictproba=(clf.predict_proba(x1_test))\n",
    "ytrain_predictproba=(clf.predict_proba(x1_train))"
   ]
  },
  {
   "cell_type": "code",
   "execution_count": 113,
   "metadata": {},
   "outputs": [],
   "source": [
    "from sklearn.metrics import roc_auc_score\n"
   ]
  },
  {
   "cell_type": "code",
   "execution_count": 114,
   "metadata": {},
   "outputs": [],
   "source": [
    "test_aucscore=roc_auc_score(y_test, ytest_predictproba[:,1], average=None, sample_weight=None, max_fpr=None)\n",
    "train_aucscore=roc_auc_score(y_train, ytrain_predictproba[:,1], average=None, sample_weight=None, max_fpr=None)"
   ]
  },
  {
   "cell_type": "code",
   "execution_count": 115,
   "metadata": {},
   "outputs": [
    {
     "name": "stdout",
     "output_type": "stream",
     "text": [
      "0.7085277182040206\n",
      "0.7940535072818798\n"
     ]
    }
   ],
   "source": [
    "print(test_aucscore)\n",
    "print(train_aucscore)"
   ]
  },
  {
   "cell_type": "code",
   "execution_count": 116,
   "metadata": {},
   "outputs": [],
   "source": [
    "# https://scikit-learn.org/stable/modules/generated/sklearn.metrics.roc_curve.html#sklearn.metrics.roc_curve\n",
    "import numpy as np\n",
    "from sklearn import metrics\n",
    "\n",
    "\n",
    "test_fpr, test_tpr, test_thresholds = metrics.roc_curve(y_test,ytest_predictproba[:,1] )\n",
    "train_fpr, train_tpr, train_thresholds = metrics.roc_curve(y_train,ytrain_predictproba[:,1] )\n",
    "\n"
   ]
  },
  {
   "cell_type": "markdown",
   "metadata": {},
   "source": [
    "\n"
   ]
  },
  {
   "cell_type": "code",
   "execution_count": 117,
   "metadata": {},
   "outputs": [
    {
     "name": "stdout",
     "output_type": "stream",
     "text": [
      "[0.04665759 0.97728056 0.00356108 ... 1.         0.96974355 0.99999459]\n"
     ]
    }
   ],
   "source": [
    "print(ytest_predictproba[:,1])"
   ]
  },
  {
   "cell_type": "markdown",
   "metadata": {},
   "source": [
    "#### AUC_CURVE"
   ]
  },
  {
   "cell_type": "code",
   "execution_count": 118,
   "metadata": {},
   "outputs": [
    {
     "data": {
      "image/png": "[encoded data removed]",
      "text/plain": [
       "<Figure size 432x288 with 1 Axes>"
      ]
     },
     "metadata": {},
     "output_type": "display_data"
    }
   ],
   "source": [
    "# https://scikit-learn.org/stable/auto_examples/model_selection/plot_roc.html#sphx-glr-auto-examples-model-selection-plot-roc-py\n",
    "import matplotlib.pyplot as plt\n",
    "plt.figure()\n",
    "lw = 2\n",
    "plt.plot(test_fpr, test_tpr, color='darkorange',\n",
    "         lw=lw, label='Test-(area = %0.2f)' % test_aucscore)\n",
    "plt.plot(train_fpr, train_tpr, color='green',\n",
    "         lw=lw, label='Train-(area = %0.2f)' % train_aucscore)\n",
    "plt.plot([0, 1], [0, 1], color='navy', lw=lw, linestyle='--')\n",
    "#plt.xlim([0.0, 1.0])\n",
    "#plt.ylim([0.0, 1.05])\n",
    "plt.xlabel('False Positive Rate')\n",
    "plt.ylabel('True Positive Rate')\n",
    "plt.title('Receiver operating characteristic example Train vs Test')\n",
    "plt.legend(loc=\"lower right\")\n",
    "plt.show()"
   ]
  },
  {
   "cell_type": "markdown",
   "metadata": {},
   "source": [
    "## Seventypercentof the percent are correctly classified as their respective classes (from the true values)"
   ]
  },
  {
   "cell_type": "markdown",
   "metadata": {},
   "source": [
    "### Confusion matrix "
   ]
  },
  {
   "cell_type": "code",
   "execution_count": 119,
   "metadata": {},
   "outputs": [],
   "source": [
    "#https://scikit-learn.org/0.17/modules/generated/sklearn.metrics.confusion_matrix.html\n",
    "from sklearn.metrics import confusion_matrix"
   ]
  },
  {
   "cell_type": "code",
   "execution_count": 120,
   "metadata": {},
   "outputs": [],
   "source": [
    "test_confusionmatrix=confusion_matrix(y_test, ytest_predict, labels=None)"
   ]
  },
  {
   "cell_type": "code",
   "execution_count": 121,
   "metadata": {},
   "outputs": [
    {
     "name": "stdout",
     "output_type": "stream",
     "text": [
      "[[1210  769]\n",
      " [3350 7781]]\n"
     ]
    }
   ],
   "source": [
    "print(test_confusionmatrix)"
   ]
  },
  {
   "cell_type": "code",
   "execution_count": 122,
   "metadata": {},
   "outputs": [],
   "source": [
    "from matplotlib.pyplot import matshow\n"
   ]
  },
  {
   "cell_type": "code",
   "execution_count": null,
   "metadata": {},
   "outputs": [],
   "source": []
  },
  {
   "cell_type": "code",
   "execution_count": 123,
   "metadata": {},
   "outputs": [
    {
     "data": {
      "image/png": "[encoded data removed]",
      "text/plain": [
       "<Figure size 720x504 with 2 Axes>"
      ]
     },
     "metadata": {},
     "output_type": "display_data"
    }
   ],
   "source": [
    "# https://stackoverflow.com/questions/35572000/how-can-i-plot-a-confusion-matrix\n",
    "import seaborn as sn\n",
    "import pandas as pd\n",
    "import matplotlib.pyplot as plt\n",
    "array = test_confusionmatrix\n",
    "df_cm = pd.DataFrame(array, index = [0,1],\n",
    "                  columns = [0,1])\n",
    "plt.figure(figsize = (10,7))\n",
    "sn.set(font_scale=1.4)\n",
    "sn.heatmap(df_cm, annot=True,annot_kws={\"size\": 16},fmt='d')\n",
    "\n",
    "plt.show()"
   ]
  },
  {
   "cell_type": "markdown",
   "metadata": {},
   "source": [
    "## Test_data and Train_data -TFIDF-AUC"
   ]
  },
  {
   "cell_type": "code",
   "execution_count": null,
   "metadata": {},
   "outputs": [],
   "source": []
  },
  {
   "cell_type": "markdown",
   "metadata": {},
   "source": [
    "##### GRID_SEARCH_TFIDF"
   ]
  },
  {
   "cell_type": "code",
   "execution_count": 124,
   "metadata": {},
   "outputs": [
    {
     "name": "stdout",
     "output_type": "stream",
     "text": [
      "GridSearchCV(cv='warn', error_score='raise-deprecating',\n",
      "       estimator=MultinomialNB(alpha=array([1.e-04, 1.e-03, 1.e-02, 1.e-01, 2.e-01, 3.e-01, 5.e-01, 1.e+00,\n",
      "       1.e+01, 1.e+02, 1.e+03]),\n",
      "       class_prior=[0.5, 0.5], fit_prior=True),\n",
      "       fit_params=None, iid='warn', n_jobs=None,\n",
      "       param_grid={'alpha': array([1.e-04, 1.e-03, 1.e-02, 1.e-01, 2.e-01, 3.e-01, 5.e-01, 1.e+00,\n",
      "       1.e+01, 1.e+02, 1.e+03])},\n",
      "       pre_dispatch='2*n_jobs', refit=True, return_train_score='warn',\n",
      "       scoring='roc_auc', verbose=0)\n",
      "0.5985310437456528\n",
      "0.1\n"
     ]
    }
   ],
   "source": [
    "#https://stackoverflow.com/questions/37689942/grid-search-finding-parameters-for-auc\n",
    "import numpy as np\n",
    "\n",
    "from sklearn.naive_bayes import MultinomialNB\n",
    "from sklearn.metrics import roc_auc_score\n",
    "\n",
    "\n",
    "from sklearn.model_selection import GridSearchCV\n",
    "# load the diabetes datasets\n",
    "\n",
    "# prepare a range of alpha values to test\n",
    "alphas = np.array([0.0001,0.001,0.01,0.1,0.2,0.3,0.5,1,10,100,1000])\n",
    "# create and fit a ridge regression model, testing each alpha\n",
    "model = MultinomialNB(alpha=alphas,class_prior=[0.5,0.5])\n",
    "grid = GridSearchCV(estimator=model, param_grid=dict(alpha=alphas),scoring='roc_auc')\n",
    "grid.fit(x2_cv, y_cv)\n",
    "print(grid)\n",
    "# summarize the results of the grid search\n",
    "print(grid.best_score_)\n",
    "print(grid.best_estimator_.alpha)"
   ]
  },
  {
   "cell_type": "code",
   "execution_count": 125,
   "metadata": {},
   "outputs": [
    {
     "name": "stdout",
     "output_type": "stream",
     "text": [
      "[-3.999999999999999, -2.9999999999999996, -1.9999999999999996, -0.9999999999999998, -0.6989700043360187, -0.5228787452803376, -0.30102999566398114, 0.0, 1.0, 2.0, 2.9999999999999996]\n",
      "[0.6609141743404117, 0.6613596023905486, 0.661266903238655, 0.6613362233194295, 0.6597996054974683, 0.6577166437513939, 0.6529662888775226, 0.6410350182622323, 0.5654580171124813, 0.5156473399224787, 0.5046054727273148]\n",
      "[0.7916373399235532, 0.7874767236567659, 0.780921821348018, 0.765889300256245, 0.7559903038803326, 0.7477726250384753, 0.7339140927308818, 0.7075479107683128, 0.5909202792846528, 0.532137451557012, 0.522520548438542]\n"
     ]
    },
    {
     "data": {
      "image/png": "[encoded data removed]",
      "text/plain": [
       "<Figure size 432x288 with 1 Axes>"
      ]
     },
     "metadata": {},
     "output_type": "display_data"
    }
   ],
   "source": [
    "\n",
    "from sklearn.metrics import roc_auc_score\n",
    "cv_auc=[]\n",
    "train_auc=[]\n",
    "for k in alphas:\n",
    "    \n",
    "    clf = MultinomialNB(alpha=k,class_prior=[0.5,0.5])\n",
    "    clf.fit(x2_train, y_train)\n",
    "    ycv_predict=(clf.predict(x2_cv))\n",
    "    ytrain_predict=(clf.predict(x2_train))\n",
    "    ycv_predictproba=(clf.predict_proba(x2_test))\n",
    "    ytrain_predictproba=(clf.predict_proba(x2_train))\n",
    "    cv_aucscore=roc_auc_score(y_test, ycv_predictproba[:,1], average=None, sample_weight=None, max_fpr=None)\n",
    "    train_aucscore=roc_auc_score(y_train, ytrain_predictproba[:,1], average=None, sample_weight=None, max_fpr=None)\n",
    "    cv_auc.append(cv_aucscore)\n",
    "    train_auc.append(train_aucscore)\n",
    "import math as m\n",
    "\n",
    "xaxis=[]\n",
    "for x in alphas:\n",
    "    \n",
    "    a=m.log(x,10)\n",
    "    xaxis.append(a)\n",
    "print(xaxis)\n",
    "print(cv_auc)\n",
    "print(train_auc)\n",
    "# https://scikit-learn.org/stable/auto_examples/model_selection/plot_roc.html#sphx-glr-auto-examples-model-selection-plot-roc-py\n",
    "import matplotlib.pyplot as plt\n",
    "plt.figure()\n",
    "lw = 2\n",
    "plt.plot(xaxis,cv_auc, color='darkorange',\n",
    "         lw=lw, label='Test-AUC')\n",
    "plt.plot(xaxis, train_auc, color='green',\n",
    "         lw=lw, label='Train-AUC')\n",
    "\n",
    "#plt.xlim([0.0, 1.0])\n",
    "#plt.ylim([0.0, 1.05])\n",
    "plt.xlabel('log aplha')\n",
    "plt.ylabel('auc score')\n",
    "plt.title('Receiver operating characteristic comparision for Train vs Test')\n",
    "plt.legend(loc=\"lower right\")\n",
    "plt.show() "
   ]
  },
  {
   "cell_type": "markdown",
   "metadata": {},
   "source": [
    "###  auc_score_TFIDF"
   ]
  },
  {
   "cell_type": "code",
   "execution_count": 126,
   "metadata": {},
   "outputs": [
    {
     "name": "stdout",
     "output_type": "stream",
     "text": [
      "[0.07612334 0.85647928 0.01289224 ... 1.         0.9806002  0.9999978 ]\n",
      "0.706919737469828\n",
      "0.7866247778719597\n"
     ]
    }
   ],
   "source": [
    "import numpy as np\n",
    "\n",
    "from sklearn.naive_bayes import MultinomialNB\n",
    "\n",
    "\n",
    "clf = MultinomialNB(alpha=0.1,class_prior=[0.5,0.5])\n",
    "clf.fit(x2_train, y_train)\n",
    "\n",
    "ytest_predict=(clf.predict(x2_test))\n",
    "ytrain_predict=(clf.predict(x2_train))\n",
    "\n",
    "ytest_predictproba=(clf.predict_proba(x1_test))\n",
    "ytrain_predictproba=(clf.predict_proba(x1_train))\n",
    "\n",
    "import numpy as np\n",
    "from sklearn import metrics\n",
    "\n",
    "\n",
    "test_fpr, test_tpr, test_thresholds = metrics.roc_curve(y_test,ytest_predictproba[:,1] )\n",
    "train_fpr, train_tpr, train_thresholds = metrics.roc_curve(y_train,ytrain_predictproba[:,1] )\n",
    "\n",
    "print(ytest_predictproba[:,1])\n",
    "\n",
    "\n",
    "test_aucscore=roc_auc_score(y_test, ytest_predictproba[:,1], average=None, sample_weight=None, max_fpr=None)\n",
    "train_aucscore=roc_auc_score(y_train, ytrain_predictproba[:,1], average=None, sample_weight=None, max_fpr=None)\n",
    "\n",
    "print(test_aucscore)\n",
    "print(train_aucscore)\n",
    "\n",
    "\n"
   ]
  },
  {
   "cell_type": "markdown",
   "metadata": {},
   "source": [
    "#### AUC_CURVE"
   ]
  },
  {
   "cell_type": "code",
   "execution_count": 127,
   "metadata": {},
   "outputs": [
    {
     "data": {
      "image/png": "[encoded data removed]",
      "text/plain": [
       "<Figure size 432x288 with 1 Axes>"
      ]
     },
     "metadata": {},
     "output_type": "display_data"
    }
   ],
   "source": [
    "# https://scikit-learn.org/stable/auto_examples/model_selection/plot_roc.html#sphx-glr-auto-examples-model-selection-plot-roc-py\n",
    "import matplotlib.pyplot as plt\n",
    "plt.figure()\n",
    "lw = 2\n",
    "plt.plot(test_fpr, test_tpr, color='darkorange',\n",
    "         lw=lw, label='Test(area = %0.2f)' % test_aucscore)\n",
    "plt.plot(train_fpr, train_tpr, color='green',\n",
    "         lw=lw, label='Train(area = %0.1f)' % train_aucscore)\n",
    "plt.plot([0, 1], [0, 1], color='navy', lw=lw, linestyle='--')\n",
    "#plt.xlim([0.0, 1.0])\n",
    "#plt.ylim([0.0, 1.05])\n",
    "plt.xlabel('False Positive Rate')\n",
    "plt.ylabel('True Positive Rate')\n",
    "plt.title('Receiver operating characteristic example Train vs Test')\n",
    "plt.legend(loc=\"lower right\")\n",
    "plt.show()"
   ]
  },
  {
   "cell_type": "markdown",
   "metadata": {},
   "source": [
    "## Seventypercentof the percent are correctly classified as their respective classes (from the true values)"
   ]
  },
  {
   "cell_type": "markdown",
   "metadata": {},
   "source": [
    "#### Confusion Matrix"
   ]
  },
  {
   "cell_type": "code",
   "execution_count": 128,
   "metadata": {},
   "outputs": [],
   "source": [
    "test_confusionmatrix=confusion_matrix(y_test, ytest_predict, labels=None)"
   ]
  },
  {
   "cell_type": "code",
   "execution_count": 129,
   "metadata": {},
   "outputs": [
    {
     "name": "stdout",
     "output_type": "stream",
     "text": [
      "[[1086  893]\n",
      " [3590 7541]]\n"
     ]
    }
   ],
   "source": [
    "print(test_confusionmatrix)"
   ]
  },
  {
   "cell_type": "code",
   "execution_count": 130,
   "metadata": {},
   "outputs": [
    {
     "data": {
      "image/png": "[encoded data removed]",
      "text/plain": [
       "<Figure size 720x504 with 2 Axes>"
      ]
     },
     "metadata": {},
     "output_type": "display_data"
    }
   ],
   "source": [
    "# https://stackoverflow.com/questions/35572000/how-can-i-plot-a-confusion-matrix\n",
    "import seaborn as sn\n",
    "import pandas as pd\n",
    "import matplotlib.pyplot as plt\n",
    "array = test_confusionmatrix\n",
    "df_cm = pd.DataFrame(array, index = [0,1],\n",
    "                  columns = [0,1])\n",
    "plt.figure(figsize = (10,7))\n",
    "sn.set(font_scale=1.4)\n",
    "sn.heatmap(df_cm, annot=True,annot_kws={\"size\": 16},fmt='d')\n",
    "\n",
    "plt.show()"
   ]
  },
  {
   "cell_type": "code",
   "execution_count": null,
   "metadata": {},
   "outputs": [],
   "source": []
  },
  {
   "cell_type": "markdown",
   "metadata": {},
   "source": [
    "## Feature_selection for SET1(bow)"
   ]
  },
  {
   "cell_type": "code",
   "execution_count": 131,
   "metadata": {},
   "outputs": [
    {
     "data": {
      "text/plain": [
       "array([[ -7.09181534,  -7.09181534,  -5.70153358, ..., -12.49510976,\n",
       "         -8.82473436,  -9.24077394]])"
      ]
     },
     "execution_count": 131,
     "metadata": {},
     "output_type": "execute_result"
    }
   ],
   "source": [
    "clf.coef_"
   ]
  },
  {
   "cell_type": "code",
   "execution_count": 132,
   "metadata": {},
   "outputs": [],
   "source": [
    "log_prob = np.squeeze(clf.coef_)"
   ]
  },
  {
   "cell_type": "code",
   "execution_count": 133,
   "metadata": {},
   "outputs": [],
   "source": [
    "feat_coeff=np.argsort(-log_prob)[:30]"
   ]
  },
  {
   "cell_type": "code",
   "execution_count": 134,
   "metadata": {},
   "outputs": [],
   "source": [
    "best_feat = np.array(list_features)[feat_coeff]"
   ]
  },
  {
   "cell_type": "code",
   "execution_count": 135,
   "metadata": {},
   "outputs": [
    {
     "name": "stdout",
     "output_type": "stream",
     "text": [
      "['LiteracyLanguage', 'PreK', 'MathScience', 'three_five', 'to', 'sixth_eigth', 'and', 'the', 'HealthSports', 'Writing', 'Literature', 'SpecialNeeds', 'Needs', 'students', 'AppliedLearning', 'nine_twelve', 'Applied', 'MusicArts', 'Literacy', 'Health', 'of', 'LiteracyMathematics', 'in', 'my', 'Arts', 'they', 'are', 'Wellness', 'will', 'their']\n"
     ]
    }
   ],
   "source": [
    "print(list(best_feat))"
   ]
  },
  {
   "cell_type": "markdown",
   "metadata": {},
   "source": [
    "## Pretty Table"
   ]
  },
  {
   "cell_type": "code",
   "execution_count": 136,
   "metadata": {},
   "outputs": [
    {
     "name": "stdout",
     "output_type": "stream",
     "text": [
      "+-------------------+--------------------+-----------------------+\n",
      "| laplace_smoothing | BOW_TEST_AUC_SCORE | TF-IDF_TEST_AUC_SCORE |\n",
      "+-------------------+--------------------+-----------------------+\n",
      "|        0.3        |        0.7         |           -           |\n",
      "|        0.1        |         -          |          0.7          |\n",
      "+-------------------+--------------------+-----------------------+\n"
     ]
    }
   ],
   "source": [
    "\n",
    "x = PrettyTable()\n",
    "x.field_names = [\"laplace_smoothing\", \"BOW_TEST_AUC_SCORE\", \"TF-IDF_TEST_AUC_SCORE\"]\n",
    "#for i in range(0,101,5):\n",
    "x.add_row([0.3,0.70,'-'])\n",
    "x.add_row([0.1,'-',0.7])\n",
    "print(x)\n"
   ]
  },
  {
   "cell_type": "code",
   "execution_count": null,
   "metadata": {},
   "outputs": [],
   "source": []
  },
  {
   "cell_type": "markdown",
   "metadata": {},
   "source": [
    "## Observations"
   ]
  },
  {
   "cell_type": "markdown",
   "metadata": {},
   "source": [
    "### From the above Naive Bayes model ,it is observed that :\n",
    "### There is no much difference between the maximum AUC scores for both BOW set and TFIDF set.\n",
    "### Laplace smoothing values has shown a considerable difference which can be observed from the above pretty table.\n",
    "### Words/Features that are given top priority-Literacy,Mathematics,Science,Needs,Pre-KG etc.. \n"
   ]
  },
  {
   "cell_type": "code",
   "execution_count": null,
   "metadata": {},
   "outputs": [],
   "source": []
  }
 ],
 "metadata": {
  "kernelspec": {
   "display_name": "Python 3 (Intel, 2019 update 1)",
   "language": "python",
   "name": "c009-intel_distribution_of_python_3_2019u1"
  },
  "language_info": {
   "codemirror_mode": {
    "name": "ipython",
    "version": 3
   },
   "file_extension": ".py",
   "mimetype": "text/x-python",
   "name": "python",
   "nbconvert_exporter": "python",
   "pygments_lexer": "ipython3",
   "version": "3.6.5"
  }
 },
 "nbformat": 4,
 "nbformat_minor": 2
}
